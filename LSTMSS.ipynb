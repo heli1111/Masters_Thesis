{
  "nbformat": 4,
  "nbformat_minor": 0,
  "metadata": {
    "colab": {
      "name": "LSTMSS.ipynb",
      "provenance": [],
      "collapsed_sections": [],
      "mount_file_id": "1zofxV5qkE_zN7Ec2T_HAA9uU4CnUMN5K",
      "authorship_tag": "ABX9TyOOkWPD3+LuTfb2eKfPpYyB",
      "include_colab_link": true
    },
    "kernelspec": {
      "name": "python3",
      "display_name": "Python 3"
    },
    "language_info": {
      "name": "python"
    },
    "gpuClass": "standard"
  },
  "cells": [
    {
      "cell_type": "markdown",
      "metadata": {
        "id": "view-in-github",
        "colab_type": "text"
      },
      "source": [
        "<a href=\"https://colab.research.google.com/github/hepuliu/Masters_Thesis/blob/main/LSTMSS.ipynb\" target=\"_parent\"><img src=\"https://colab.research.google.com/assets/colab-badge.svg\" alt=\"Open In Colab\"/></a>"
      ]
    },
    {
      "cell_type": "markdown",
      "source": [
        "## Master Thesis Simulation - LSTMSS Model\n",
        "\n",
        "*Flood Prevention with Machine Learining - Hepu Liu*\n",
        "\n",
        "---\n",
        "\n",
        "**This Notebook is Dedicated to the LSTM-seq2seq Model Simulations**"
      ],
      "metadata": {
        "id": "stxpzyENrS9S"
      }
    },
    {
      "cell_type": "markdown",
      "source": [
        "### Overall Project Simulation Steps\n",
        "1. Process discharge data from Waldangelbach Station\n",
        "\n",
        "2. Process precipitation data from Baiertal  Station\n",
        "\n",
        "3. Build Prediction Models\n",
        "\n",
        "4. Evaluation of NSE\n",
        "\n",
        "### Variable Naming Conventions\n",
        "\n",
        "- Weather Stations Naming: ('p' for precipitation, 'd' for discharge, 'a' for different stations, 'r' for result)\n",
        "\n",
        "  - da: Waldangelbach Station\n",
        "  - pa: Baiertal Station\n",
        "  - pr: combined/resulting precipitation\n",
        "  - dr: predicted/resulting discharge\n",
        "\n",
        "- Variable Naming Coventions: \n",
        "  - df: data frame\n",
        "  - trs: training set\n",
        "  - tes: testing set\n",
        "  - lstm: LSTM\n",
        "  - cnn: CNN\n",
        "  - lstmss: LSTM-seq2sqe\n"
      ],
      "metadata": {
        "id": "vTni1B9BrUaX"
      }
    },
    {
      "cell_type": "markdown",
      "source": [
        "## Importing Libraries"
      ],
      "metadata": {
        "id": "QKzUy-aprWdf"
      }
    },
    {
      "cell_type": "code",
      "source": [
        "# importing libraries\n",
        "import csv\n",
        "import numpy as np\n",
        "from numpy import array\n",
        "from numpy import hstack\n",
        "import matplotlib.pyplot as plt\n",
        "import pandas as pd\n",
        "from sklearn.preprocessing import MinMaxScaler\n",
        "from pandas import DataFrame\n",
        "from pandas import concat\n",
        "from math import sqrt\n",
        "from numpy import concatenate\n",
        "from numpy import loadtxt\n",
        "from pandas import DataFrame\n",
        "from pandas import concat\n",
        "from sklearn.preprocessing import LabelEncoder\n",
        "from sklearn.metrics import mean_squared_error\n",
        "from keras.models import Sequential\n",
        "from keras.layers import Dense, Dropout\n",
        "from keras.layers import LSTM\n",
        "from keras.layers import RepeatVector\n",
        "from keras.layers import TimeDistributed\n",
        "from sklearn.model_selection import train_test_split\n",
        "from google.colab import drive\n",
        "drive.mount"
      ],
      "metadata": {
        "id": "i3obmBLsrgIP",
        "colab": {
          "base_uri": "https://localhost:8080/"
        },
        "outputId": "35182b95-f633-48fd-ce61-d8dd00335c71"
      },
      "execution_count": 328,
      "outputs": [
        {
          "output_type": "execute_result",
          "data": {
            "text/plain": [
              "<function google.colab.drive.mount>"
            ]
          },
          "metadata": {},
          "execution_count": 328
        }
      ]
    },
    {
      "cell_type": "markdown",
      "source": [
        "## Importing Datasets"
      ],
      "metadata": {
        "id": "OjEf5D5krZJH"
      }
    },
    {
      "cell_type": "code",
      "source": [
        "# # Making dataframe for LSTMSS\n",
        "# df_lstmss = pd.read_csv('/content/drive/MyDrive/thesis/dataset/cleaned_df/df_fbp.csv')\n",
        "# df_lstmss.to_csv('/content/drive/MyDrive/thesis/dataset/cleaned_df/df_lstmss.csv', index=False)\n",
        "# df_lstmss\n"
      ],
      "metadata": {
        "id": "EKxrL8NG2b4u"
      },
      "execution_count": 329,
      "outputs": []
    },
    {
      "cell_type": "code",
      "source": [
        "# import datafram for LSTMSS\n",
        "df_lstmss = pd.read_csv('/content/drive/MyDrive/thesis/dataset/cleaned_df/df_lstmss.csv')\n",
        "df_lstmss.head()"
      ],
      "metadata": {
        "id": "9jEiB2uNbpCA",
        "colab": {
          "base_uri": "https://localhost:8080/",
          "height": 206
        },
        "outputId": "68a4771d-ae8f-4877-ae9c-5de0802fcab4"
      },
      "execution_count": 330,
      "outputs": [
        {
          "output_type": "execute_result",
          "data": {
            "text/plain": [
              "                    ds      y   temp  rad  preci\n",
              "0  2007-01-01 00:00:00  0.226  10.00  0.0    2.6\n",
              "1  2007-01-01 01:00:00  0.248  10.58  0.0    0.8\n",
              "2  2007-01-01 02:00:00  0.248  11.22  0.0    0.2\n",
              "3  2007-01-01 03:00:00  0.320  11.42  0.0    0.6\n",
              "4  2007-01-01 04:00:00  0.346  11.58  0.0    0.0"
            ],
            "text/html": [
              "\n",
              "  <div id=\"df-5456a0e5-b38a-434b-b8a3-9545beaf5459\">\n",
              "    <div class=\"colab-df-container\">\n",
              "      <div>\n",
              "<style scoped>\n",
              "    .dataframe tbody tr th:only-of-type {\n",
              "        vertical-align: middle;\n",
              "    }\n",
              "\n",
              "    .dataframe tbody tr th {\n",
              "        vertical-align: top;\n",
              "    }\n",
              "\n",
              "    .dataframe thead th {\n",
              "        text-align: right;\n",
              "    }\n",
              "</style>\n",
              "<table border=\"1\" class=\"dataframe\">\n",
              "  <thead>\n",
              "    <tr style=\"text-align: right;\">\n",
              "      <th></th>\n",
              "      <th>ds</th>\n",
              "      <th>y</th>\n",
              "      <th>temp</th>\n",
              "      <th>rad</th>\n",
              "      <th>preci</th>\n",
              "    </tr>\n",
              "  </thead>\n",
              "  <tbody>\n",
              "    <tr>\n",
              "      <th>0</th>\n",
              "      <td>2007-01-01 00:00:00</td>\n",
              "      <td>0.226</td>\n",
              "      <td>10.00</td>\n",
              "      <td>0.0</td>\n",
              "      <td>2.6</td>\n",
              "    </tr>\n",
              "    <tr>\n",
              "      <th>1</th>\n",
              "      <td>2007-01-01 01:00:00</td>\n",
              "      <td>0.248</td>\n",
              "      <td>10.58</td>\n",
              "      <td>0.0</td>\n",
              "      <td>0.8</td>\n",
              "    </tr>\n",
              "    <tr>\n",
              "      <th>2</th>\n",
              "      <td>2007-01-01 02:00:00</td>\n",
              "      <td>0.248</td>\n",
              "      <td>11.22</td>\n",
              "      <td>0.0</td>\n",
              "      <td>0.2</td>\n",
              "    </tr>\n",
              "    <tr>\n",
              "      <th>3</th>\n",
              "      <td>2007-01-01 03:00:00</td>\n",
              "      <td>0.320</td>\n",
              "      <td>11.42</td>\n",
              "      <td>0.0</td>\n",
              "      <td>0.6</td>\n",
              "    </tr>\n",
              "    <tr>\n",
              "      <th>4</th>\n",
              "      <td>2007-01-01 04:00:00</td>\n",
              "      <td>0.346</td>\n",
              "      <td>11.58</td>\n",
              "      <td>0.0</td>\n",
              "      <td>0.0</td>\n",
              "    </tr>\n",
              "  </tbody>\n",
              "</table>\n",
              "</div>\n",
              "      <button class=\"colab-df-convert\" onclick=\"convertToInteractive('df-5456a0e5-b38a-434b-b8a3-9545beaf5459')\"\n",
              "              title=\"Convert this dataframe to an interactive table.\"\n",
              "              style=\"display:none;\">\n",
              "        \n",
              "  <svg xmlns=\"http://www.w3.org/2000/svg\" height=\"24px\"viewBox=\"0 0 24 24\"\n",
              "       width=\"24px\">\n",
              "    <path d=\"M0 0h24v24H0V0z\" fill=\"none\"/>\n",
              "    <path d=\"M18.56 5.44l.94 2.06.94-2.06 2.06-.94-2.06-.94-.94-2.06-.94 2.06-2.06.94zm-11 1L8.5 8.5l.94-2.06 2.06-.94-2.06-.94L8.5 2.5l-.94 2.06-2.06.94zm10 10l.94 2.06.94-2.06 2.06-.94-2.06-.94-.94-2.06-.94 2.06-2.06.94z\"/><path d=\"M17.41 7.96l-1.37-1.37c-.4-.4-.92-.59-1.43-.59-.52 0-1.04.2-1.43.59L10.3 9.45l-7.72 7.72c-.78.78-.78 2.05 0 2.83L4 21.41c.39.39.9.59 1.41.59.51 0 1.02-.2 1.41-.59l7.78-7.78 2.81-2.81c.8-.78.8-2.07 0-2.86zM5.41 20L4 18.59l7.72-7.72 1.47 1.35L5.41 20z\"/>\n",
              "  </svg>\n",
              "      </button>\n",
              "      \n",
              "  <style>\n",
              "    .colab-df-container {\n",
              "      display:flex;\n",
              "      flex-wrap:wrap;\n",
              "      gap: 12px;\n",
              "    }\n",
              "\n",
              "    .colab-df-convert {\n",
              "      background-color: #E8F0FE;\n",
              "      border: none;\n",
              "      border-radius: 50%;\n",
              "      cursor: pointer;\n",
              "      display: none;\n",
              "      fill: #1967D2;\n",
              "      height: 32px;\n",
              "      padding: 0 0 0 0;\n",
              "      width: 32px;\n",
              "    }\n",
              "\n",
              "    .colab-df-convert:hover {\n",
              "      background-color: #E2EBFA;\n",
              "      box-shadow: 0px 1px 2px rgba(60, 64, 67, 0.3), 0px 1px 3px 1px rgba(60, 64, 67, 0.15);\n",
              "      fill: #174EA6;\n",
              "    }\n",
              "\n",
              "    [theme=dark] .colab-df-convert {\n",
              "      background-color: #3B4455;\n",
              "      fill: #D2E3FC;\n",
              "    }\n",
              "\n",
              "    [theme=dark] .colab-df-convert:hover {\n",
              "      background-color: #434B5C;\n",
              "      box-shadow: 0px 1px 3px 1px rgba(0, 0, 0, 0.15);\n",
              "      filter: drop-shadow(0px 1px 2px rgba(0, 0, 0, 0.3));\n",
              "      fill: #FFFFFF;\n",
              "    }\n",
              "  </style>\n",
              "\n",
              "      <script>\n",
              "        const buttonEl =\n",
              "          document.querySelector('#df-5456a0e5-b38a-434b-b8a3-9545beaf5459 button.colab-df-convert');\n",
              "        buttonEl.style.display =\n",
              "          google.colab.kernel.accessAllowed ? 'block' : 'none';\n",
              "\n",
              "        async function convertToInteractive(key) {\n",
              "          const element = document.querySelector('#df-5456a0e5-b38a-434b-b8a3-9545beaf5459');\n",
              "          const dataTable =\n",
              "            await google.colab.kernel.invokeFunction('convertToInteractive',\n",
              "                                                     [key], {});\n",
              "          if (!dataTable) return;\n",
              "\n",
              "          const docLinkHtml = 'Like what you see? Visit the ' +\n",
              "            '<a target=\"_blank\" href=https://colab.research.google.com/notebooks/data_table.ipynb>data table notebook</a>'\n",
              "            + ' to learn more about interactive tables.';\n",
              "          element.innerHTML = '';\n",
              "          dataTable['output_type'] = 'display_data';\n",
              "          await google.colab.output.renderOutput(dataTable, element);\n",
              "          const docLink = document.createElement('div');\n",
              "          docLink.innerHTML = docLinkHtml;\n",
              "          element.appendChild(docLink);\n",
              "        }\n",
              "      </script>\n",
              "    </div>\n",
              "  </div>\n",
              "  "
            ]
          },
          "metadata": {},
          "execution_count": 330
        }
      ]
    },
    {
      "cell_type": "code",
      "source": [
        "# Data Processing for Multivariable LSTMSS - Small Testing Sample Set\n",
        "# df_lstmss = df_lstmss.iloc[:5000, :]\n",
        "df_lstmss = df_lstmss.set_index('ds')\n",
        "df_lstmss = df_lstmss[['temp', 'rad', 'preci', 'y']]\n",
        "df_lstmss = df_lstmss.to_numpy()\n",
        "df_lstmss"
      ],
      "metadata": {
        "id": "Y5nMHum5aNrw",
        "colab": {
          "base_uri": "https://localhost:8080/"
        },
        "outputId": "b3d4fda2-d2c6-4cd8-c707-2a65f633d975"
      },
      "execution_count": 331,
      "outputs": [
        {
          "output_type": "execute_result",
          "data": {
            "text/plain": [
              "array([[10.   ,  0.   ,  2.6  ,  0.226],\n",
              "       [10.58 ,  0.   ,  0.8  ,  0.248],\n",
              "       [11.22 ,  0.   ,  0.2  ,  0.248],\n",
              "       ...,\n",
              "       [ 6.25 ,  0.   ,  0.1  ,  0.232],\n",
              "       [ 6.26 ,  0.   ,  0.   ,  0.226],\n",
              "       [ 6.26 ,  0.   ,  0.   ,  0.226]])"
            ]
          },
          "metadata": {},
          "execution_count": 331
        }
      ]
    },
    {
      "cell_type": "markdown",
      "source": [
        "## Data Processing"
      ],
      "metadata": {
        "id": "QW4JNsmrrlZu"
      }
    },
    {
      "cell_type": "code",
      "source": [
        "# LSTMSS - split into train and test sets\n",
        "n = 9*365*24\n",
        "# n = 3000\n",
        "trs_lstmss= df_lstmss[:n, :]\n",
        "tes_lstmss = df_lstmss[n:, :]"
      ],
      "metadata": {
        "id": "X9NzrzrDQA7H"
      },
      "execution_count": 332,
      "outputs": []
    },
    {
      "cell_type": "code",
      "source": [
        "# LSTMSS\n",
        "# convert history into inputs and outputs\n",
        "def to_supervised(train, n_input, n_out):\n",
        "\t# flatten data\n",
        "\t# data = train.reshape((train.shape[0]*train.shape[1], train.shape[2]))\n",
        "  data = train\n",
        "  X, y = list(), list()\n",
        "  in_start = 0\n",
        "  # step over the entire history one time step at a time\n",
        "  for _ in range(len(data)):\n",
        "   # define the end of the input sequence\n",
        "   in_end = in_start + n_input\n",
        "   out_end = in_end + n_out\n",
        "   # ensure we have enough data for this instance\n",
        "   if out_end <= len(data):\n",
        "    x_input = data[in_start:in_end, :]\n",
        "    X.append(x_input)\n",
        "    y.append(data[in_end:out_end, 3])\n",
        "   # move along one time step\n",
        "   in_start += 1\n",
        "  return array(X), array(y)\n",
        "\n",
        "n_input, n_out = 10, 3\n",
        "trs_lstmss_X, trs_lstmss_y = to_supervised(trs_lstmss, n_input, n_out)\n",
        "tes_lstmss_X, tes_lstmss_y = to_supervised(tes_lstmss, n_input, n_out)\n",
        "\n",
        "# define parameters\n",
        "verbose, epochs, batch_size = 2, 50, 42\n",
        "n_timesteps, n_features, n_outputs = trs_lstmss_X.shape[1], trs_lstmss_X.shape[2], trs_lstmss_y.shape[1]\n",
        "\n",
        "# reshape output into [samples, timesteps, features]\n",
        "trs_lstmss_y = trs_lstmss_y.reshape((trs_lstmss_y.shape[0], trs_lstmss_y.shape[1], 1))\n",
        "tes_lstmss_y = tes_lstmss_y.reshape((tes_lstmss_y.shape[0], tes_lstmss_y.shape[1], 1))\n",
        "\n",
        "# define model\n",
        "model = Sequential()\n",
        "model.add(LSTM(100, activation='relu', input_shape=(n_timesteps, n_features)))\n",
        "model.add(RepeatVector(n_outputs))\n",
        "model.add(LSTM(100, activation='relu', return_sequences=True))\n",
        "model.add(TimeDistributed(Dense(50, activation='relu')))\n",
        "model.add(TimeDistributed(Dense(1)))\n",
        "model.compile(loss='mse', optimizer='adam')\n",
        "# fit network\n",
        "model.fit(trs_lstmss_X, trs_lstmss_y, epochs=epochs, batch_size=batch_size, verbose=verbose)\n"
      ],
      "metadata": {
        "id": "ieKBGM_wfdoR",
        "colab": {
          "base_uri": "https://localhost:8080/"
        },
        "outputId": "e4a1694b-e3bc-4a52-93f0-b5defe694e6d"
      },
      "execution_count": 333,
      "outputs": [
        {
          "output_type": "stream",
          "name": "stdout",
          "text": [
            "Epoch 1/50\n",
            "1877/1877 - 28s - loss: 0.5887 - 28s/epoch - 15ms/step\n",
            "Epoch 2/50\n",
            "1877/1877 - 23s - loss: 0.0195 - 23s/epoch - 12ms/step\n",
            "Epoch 3/50\n",
            "1877/1877 - 23s - loss: 0.0188 - 23s/epoch - 12ms/step\n",
            "Epoch 4/50\n",
            "1877/1877 - 22s - loss: 0.0118 - 22s/epoch - 12ms/step\n",
            "Epoch 5/50\n",
            "1877/1877 - 24s - loss: 0.0545 - 24s/epoch - 13ms/step\n",
            "Epoch 6/50\n",
            "1877/1877 - 23s - loss: 0.0121 - 23s/epoch - 12ms/step\n",
            "Epoch 7/50\n",
            "1877/1877 - 22s - loss: 0.0125 - 22s/epoch - 12ms/step\n",
            "Epoch 8/50\n",
            "1877/1877 - 22s - loss: 0.0089 - 22s/epoch - 12ms/step\n",
            "Epoch 9/50\n",
            "1877/1877 - 22s - loss: 0.0089 - 22s/epoch - 12ms/step\n",
            "Epoch 10/50\n",
            "1877/1877 - 24s - loss: 0.0075 - 24s/epoch - 13ms/step\n",
            "Epoch 11/50\n",
            "1877/1877 - 23s - loss: 0.0071 - 23s/epoch - 12ms/step\n",
            "Epoch 12/50\n",
            "1877/1877 - 23s - loss: 0.0066 - 23s/epoch - 12ms/step\n",
            "Epoch 13/50\n",
            "1877/1877 - 23s - loss: 0.0059 - 23s/epoch - 12ms/step\n",
            "Epoch 14/50\n",
            "1877/1877 - 23s - loss: 0.0056 - 23s/epoch - 12ms/step\n",
            "Epoch 15/50\n",
            "1877/1877 - 25s - loss: 0.0055 - 25s/epoch - 13ms/step\n",
            "Epoch 16/50\n",
            "1877/1877 - 22s - loss: 0.0065 - 22s/epoch - 12ms/step\n",
            "Epoch 17/50\n",
            "1877/1877 - 23s - loss: 0.0061 - 23s/epoch - 12ms/step\n",
            "Epoch 18/50\n",
            "1877/1877 - 23s - loss: 0.0054 - 23s/epoch - 12ms/step\n",
            "Epoch 19/50\n",
            "1877/1877 - 22s - loss: 0.0052 - 22s/epoch - 12ms/step\n",
            "Epoch 20/50\n",
            "1877/1877 - 24s - loss: 0.0057 - 24s/epoch - 13ms/step\n",
            "Epoch 21/50\n",
            "1877/1877 - 23s - loss: 0.0058 - 23s/epoch - 12ms/step\n",
            "Epoch 22/50\n",
            "1877/1877 - 24s - loss: 0.0049 - 24s/epoch - 13ms/step\n",
            "Epoch 23/50\n",
            "1877/1877 - 23s - loss: 0.0052 - 23s/epoch - 12ms/step\n",
            "Epoch 24/50\n",
            "1877/1877 - 25s - loss: 0.0246 - 25s/epoch - 13ms/step\n",
            "Epoch 25/50\n",
            "1877/1877 - 23s - loss: 0.0136 - 23s/epoch - 12ms/step\n",
            "Epoch 26/50\n",
            "1877/1877 - 22s - loss: 0.0128 - 22s/epoch - 12ms/step\n",
            "Epoch 27/50\n",
            "1877/1877 - 22s - loss: 0.0092 - 22s/epoch - 12ms/step\n",
            "Epoch 28/50\n",
            "1877/1877 - 22s - loss: 0.0072 - 22s/epoch - 12ms/step\n",
            "Epoch 29/50\n",
            "1877/1877 - 24s - loss: 0.0072 - 24s/epoch - 13ms/step\n",
            "Epoch 30/50\n",
            "1877/1877 - 24s - loss: 0.0074 - 24s/epoch - 13ms/step\n",
            "Epoch 31/50\n",
            "1877/1877 - 23s - loss: 0.0141 - 23s/epoch - 12ms/step\n",
            "Epoch 32/50\n",
            "1877/1877 - 23s - loss: 0.0214 - 23s/epoch - 12ms/step\n",
            "Epoch 33/50\n",
            "1877/1877 - 23s - loss: 0.0160 - 23s/epoch - 12ms/step\n",
            "Epoch 34/50\n",
            "1877/1877 - 24s - loss: 0.0127 - 24s/epoch - 13ms/step\n",
            "Epoch 35/50\n",
            "1877/1877 - 23s - loss: 0.0159 - 23s/epoch - 12ms/step\n",
            "Epoch 36/50\n",
            "1877/1877 - 24s - loss: 0.0144 - 24s/epoch - 13ms/step\n",
            "Epoch 37/50\n",
            "1877/1877 - 24s - loss: 0.0142 - 24s/epoch - 13ms/step\n",
            "Epoch 38/50\n",
            "1877/1877 - 25s - loss: 0.0221 - 25s/epoch - 13ms/step\n",
            "Epoch 39/50\n",
            "1877/1877 - 22s - loss: 0.0174 - 22s/epoch - 12ms/step\n",
            "Epoch 40/50\n",
            "1877/1877 - 22s - loss: 0.0137 - 22s/epoch - 12ms/step\n",
            "Epoch 41/50\n",
            "1877/1877 - 23s - loss: 0.0114 - 23s/epoch - 12ms/step\n",
            "Epoch 42/50\n",
            "1877/1877 - 23s - loss: 0.0119 - 23s/epoch - 12ms/step\n",
            "Epoch 43/50\n",
            "1877/1877 - 24s - loss: 0.0093 - 24s/epoch - 13ms/step\n",
            "Epoch 44/50\n",
            "1877/1877 - 23s - loss: 0.0084 - 23s/epoch - 12ms/step\n",
            "Epoch 45/50\n",
            "1877/1877 - 23s - loss: 0.0084 - 23s/epoch - 12ms/step\n",
            "Epoch 46/50\n",
            "1877/1877 - 22s - loss: 0.0081 - 22s/epoch - 12ms/step\n",
            "Epoch 47/50\n",
            "1877/1877 - 22s - loss: 0.0069 - 22s/epoch - 12ms/step\n",
            "Epoch 48/50\n",
            "1877/1877 - 25s - loss: 0.0070 - 25s/epoch - 13ms/step\n",
            "Epoch 49/50\n",
            "1877/1877 - 24s - loss: 0.0068 - 24s/epoch - 13ms/step\n",
            "Epoch 50/50\n",
            "1877/1877 - 24s - loss: 0.0112 - 24s/epoch - 13ms/step\n"
          ]
        },
        {
          "output_type": "execute_result",
          "data": {
            "text/plain": [
              "<keras.callbacks.History at 0x7f8cebcdc790>"
            ]
          },
          "metadata": {},
          "execution_count": 333
        }
      ]
    },
    {
      "cell_type": "markdown",
      "source": [
        "## LSTM Model Prediction\n"
      ],
      "metadata": {
        "id": "Uor3rlPR1rpY"
      }
    },
    {
      "cell_type": "code",
      "source": [
        "# LSTMSS Prediction\n",
        "trs_lstmss_pred = model.predict(trs_lstmss_X)\n",
        "tes_lstmss_pred = model.predict(tes_lstmss_X)\n"
      ],
      "metadata": {
        "id": "k1k-Fwof3U1m"
      },
      "execution_count": 334,
      "outputs": []
    },
    {
      "cell_type": "code",
      "source": [
        "trs_lstmss_pred = trs_lstmss_pred.reshape(-1,1)\n",
        "trs_lstmss_y = trs_lstmss_y.reshape(-1,1)\n",
        "tes_lstmss_pred = tes_lstmss_pred.reshape(-1,1)\n",
        "tes_lstmss_y = tes_lstmss_y.reshape(-1,1)"
      ],
      "metadata": {
        "id": "BtqEHevGS87d"
      },
      "execution_count": 335,
      "outputs": []
    },
    {
      "cell_type": "code",
      "source": [
        "# calculate NSE\n",
        "nse_trs_lstmss = 1-(np.sum((trs_lstmss_pred-trs_lstmss_y)**2)/np.sum((trs_lstmss_y-np.mean(trs_lstmss_y))**2))\n",
        "nse_tes_lstmss = 1-(np.sum((tes_lstmss_pred-tes_lstmss_y)**2)/np.sum((tes_lstmss_y-np.mean(tes_lstmss_y))**2))\n",
        "\n",
        "print('Train NSE: %.3f' % nse_trs_lstmss)\n",
        "print('Test NSE: %.3f' % nse_tes_lstmss)\n",
        "\n",
        "# calculate RMSE\n",
        "rmse_trs_lstmss = np.sqrt(mean_squared_error(trs_lstmss_y, trs_lstmss_pred))\n",
        "rmse_tes_lstmss = np.sqrt(mean_squared_error(tes_lstmss_y, tes_lstmss_pred))\n",
        "\n",
        "print('Train RMSE: %.3f' % rmse_trs_lstmss)\n",
        "print('Test RMSE: %.3f' % rmse_tes_lstmss)"
      ],
      "metadata": {
        "colab": {
          "base_uri": "https://localhost:8080/"
        },
        "id": "kDxMjAW-S9wr",
        "outputId": "6cf1d320-34a2-4f52-db11-25f6ebb33088"
      },
      "execution_count": 336,
      "outputs": [
        {
          "output_type": "stream",
          "name": "stdout",
          "text": [
            "Train NSE: 0.874\n",
            "Test NSE: 0.824\n",
            "Train RMSE: 0.086\n",
            "Test RMSE: 0.113\n"
          ]
        }
      ]
    },
    {
      "cell_type": "markdown",
      "source": [
        "## Evaluation"
      ],
      "metadata": {
        "id": "U-GN4TBS16oC"
      }
    },
    {
      "cell_type": "code",
      "source": [
        "# # LSTM\n",
        "# # Training Accuracy Evaluations\n",
        "# # make a prediction\n",
        "# yhat = model.predict(train_X)\n",
        "# train_X = train_X.reshape((train_X.shape[0], train_X.shape[2]))\n",
        "# # invert scaling for forecast\n",
        "# inv_yhat = concatenate((yhat, train_X[:, 1:]), axis=1)\n",
        "# inv_yhat = scaler.inverse_transform(inv_yhat)\n",
        "# inv_yhat = inv_yhat[:,0]\n",
        "# # invert scaling for actual\n",
        "# train_y = train_y.reshape((len(train_y), 1))\n",
        "# inv_y = concatenate((train_y, train_X[:, 1:]), axis=1)\n",
        "# inv_y = scaler.inverse_transform(inv_y)\n",
        "# inv_y = inv_y[:,0]\n",
        "\n",
        "# # calculate RMSE\n",
        "# rmse = sqrt(mean_squared_error(inv_y, inv_yhat))\n",
        "# print('Test RMSE: %.3f' % rmse)\n",
        "\n",
        "# # calculate NSE\n",
        "# nse = 1-(np.sum((inv_yhat-inv_y)**2)/np.sum((inv_y-np.mean(inv_y))**2))\n",
        "# print('Test NSE: %.3f' % nse)\n",
        "\n",
        "# # plot history\n",
        "# plt.plot(inv_y, label='train')\n",
        "# plt.plot(inv_yhat, label='predict')\n",
        "# plt.legend()\n",
        "# plt.show()"
      ],
      "metadata": {
        "id": "aSg71hIM4Voy"
      },
      "execution_count": 337,
      "outputs": []
    },
    {
      "cell_type": "code",
      "source": [
        "# # LSTM\n",
        "# # Testing Accuracy Evaluations\n",
        "# # make a prediction\n",
        "# yhat = model.predict(test_X)\n",
        "# test_X = test_X.reshape((test_X.shape[0], test_X.shape[2]))\n",
        "# # invert scaling for forecast\n",
        "# inv_yhat = concatenate((yhat, test_X[:, 1:]), axis=1)\n",
        "# inv_yhat = scaler.inverse_transform(inv_yhat)\n",
        "# inv_yhat = inv_yhat[:,0]\n",
        "# # invert scaling for actual\n",
        "# test_y = test_y.reshape((len(test_y), 1))\n",
        "# inv_y = concatenate((test_y, test_X[:, 1:]), axis=1)\n",
        "# inv_y = scaler.inverse_transform(inv_y)\n",
        "# inv_y = inv_y[:,0]\n",
        "\n",
        "# # calculate RMSE\n",
        "# rmse = sqrt(mean_squared_error(inv_y, inv_yhat))\n",
        "# print('Test RMSE: %.3f' % rmse)\n",
        "\n",
        "# # calculate NSE\n",
        "# nse = 1-(np.sum((inv_yhat-inv_y)**2)/np.sum((inv_y-np.mean(inv_y))**2))\n",
        "# print('Test NSE: %.3f' % nse)\n",
        "\n",
        "# # plot history\n",
        "# plt.plot(inv_y, label='train')\n",
        "# plt.plot(inv_yhat, label='predict')\n",
        "# plt.legend()\n",
        "# plt.show()"
      ],
      "metadata": {
        "id": "8iZcIzl_UD7-"
      },
      "execution_count": 338,
      "outputs": []
    },
    {
      "cell_type": "markdown",
      "source": [
        "# Archive"
      ],
      "metadata": {
        "id": "uupgN12or3e8"
      }
    },
    {
      "cell_type": "code",
      "source": [
        "# # NSE Calculation and Plot\n",
        "\n",
        "# o = np.array([1,2,3,4,5,6,7,8,9,10,2,3,4,5,6,7])\n",
        "# m = np.array([1.1,2.2,3.2,4,5,6.1,7.2,8.5,8,10.5,1,2,4,5,6,7])\n",
        "# # nse = 1-(np.sum((p-t)**2)/np.sum((t-np.mean(t))**2))\n",
        "# # print('Test NSE: %.3f' % nse)\n",
        "# # plot\n",
        "\n",
        "\n",
        "# fig= plt.figure(figsize=(14, 4))\n",
        "# plt.title('Insert Title')\n",
        "# plt.plot(o, label='observed', color='#00688b', linewidth=0.5)\n",
        "# plt.plot(m, label='model', color='#ee7600', linewidth=0.5)\n",
        "# plt.plot([], [], ' ', label='NSE = %.3f' % nse)\n",
        "# plt.ylabel('y label')\n",
        "# plt.ylabel('x label')\n",
        "# plt.legend()\n",
        "# plt.show()"
      ],
      "metadata": {
        "id": "iSt9vQHm2bNu"
      },
      "execution_count": 339,
      "outputs": []
    }
  ]
}