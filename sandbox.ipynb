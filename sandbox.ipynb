{
  "nbformat": 4,
  "nbformat_minor": 0,
  "metadata": {
    "colab": {
      "name": "sandbox.ipynb",
      "provenance": [],
      "collapsed_sections": [],
      "mount_file_id": "17ughMu7uCIuMm26YZzU76zeqR-8PxVWw",
      "authorship_tag": "ABX9TyOiLkJywTyVowNG0wSeV2lL",
      "include_colab_link": true
    },
    "kernelspec": {
      "name": "python3",
      "display_name": "Python 3"
    },
    "language_info": {
      "name": "python"
    }
  },
  "cells": [
    {
      "cell_type": "markdown",
      "metadata": {
        "id": "view-in-github",
        "colab_type": "text"
      },
      "source": [
        "<a href=\"https://colab.research.google.com/github/hepuliu/Masters_Thesis/blob/main/sandbox.ipynb\" target=\"_parent\"><img src=\"https://colab.research.google.com/assets/colab-badge.svg\" alt=\"Open In Colab\"/></a>"
      ]
    },
    {
      "cell_type": "markdown",
      "source": [
        "## Master Thesis Simulation Sandbox\n",
        "Flood Prevention Dam Sizing with Machine Learining Approaches - Hepu Liu"
      ],
      "metadata": {
        "id": "SK9SqJkgYflY"
      }
    },
    {
      "cell_type": "markdown",
      "source": [
        "### Overall Project Simulation Steps\n",
        "1. Process discharge data from Waldangelbach Station\n",
        "\n",
        "2. Process precipitation data from Baiertal  Station\n",
        "\n",
        "3. Build Prediction Model (Model A)\n",
        "\n",
        "4. Process precipitation data from Stifterhof Station\n",
        "\n",
        "5. Process precipitation data from Waibstadt Station (optional)\n",
        "\n",
        "6. Process precipitation data from Stetten Station (optional\n",
        "\n",
        "7. Fit data to Model A to predict discharge\n",
        "\n",
        "### Variable Naming Conventions\n",
        "\n",
        "- Weather Stations Naming: ('p' for precipitation, 'd' for discharge, 'a' to 'd' for different stations, 'r' for result)\n",
        "\n",
        "  - da: Waldangelbach Station\n",
        "  - pa: Baiertal Station\n",
        "  - pb: Stifterhof Station\n",
        "  - pc: Waibstadt Station\n",
        "  - pd: Stetten Station\n",
        "  - pr: combined/resulting precipitation\n",
        "  - dr: predicted/resulting discharge\n",
        "\n",
        "- Variable Naming Coventions: \n",
        "  - df: data frame\n",
        "  - trs: training set\n",
        "  - tes: testing set\n",
        "\n"
      ],
      "metadata": {
        "id": "qglbOjh3bvqI"
      }
    },
    {
      "cell_type": "markdown",
      "source": [
        "## Importing Libraries"
      ],
      "metadata": {
        "id": "KIiBvKSSYZGo"
      }
    },
    {
      "cell_type": "code",
      "source": [
        "# importing libraries\n",
        "import csv\n",
        "import seaborn as sns\n",
        "import numpy as np\n",
        "import matplotlib.pyplot as plt\n",
        "import pandas as pd\n",
        "from fbprophet import Prophet\n",
        "from google.colab import drive\n",
        "drive.mount"
      ],
      "metadata": {
        "colab": {
          "base_uri": "https://localhost:8080/"
        },
        "id": "qZOjIExEcfol",
        "outputId": "773b9f53-5bcf-43d9-9fe1-24be8814495f"
      },
      "execution_count": 73,
      "outputs": [
        {
          "output_type": "execute_result",
          "data": {
            "text/plain": [
              "<function google.colab.drive.mount>"
            ]
          },
          "metadata": {},
          "execution_count": 73
        }
      ]
    },
    {
      "cell_type": "markdown",
      "source": [
        "## Importing Datasets"
      ],
      "metadata": {
        "id": "aaJEQP7LYbTH"
      }
    },
    {
      "cell_type": "code",
      "source": [
        "# # import datasets\n",
        "# da_df = pd.read_csv('/content/drive/MyDrive/thesis/dataset/cleaned_df/da_df.csv')\n",
        "# pa_df = pd.read_csv('/content/drive/MyDrive/thesis/dataset/cleaned_df/pa_df.csv')\n",
        "# pb_df = pd.read_csv('/content/drive/MyDrive/thesis/dataset/cleaned_df/pb_df.csv')"
      ],
      "metadata": {
        "id": "KF7fZyvgXIFI"
      },
      "execution_count": 74,
      "outputs": []
    },
    {
      "cell_type": "markdown",
      "source": [
        "## Data Processing"
      ],
      "metadata": {
        "id": "1fFHbl2kREy3"
      }
    },
    {
      "cell_type": "markdown",
      "source": [
        "# Archive"
      ],
      "metadata": {
        "id": "6w2EwQydjZZm"
      }
    },
    {
      "cell_type": "code",
      "source": [
        "# # Cleanup Discharge A DataFrame da_df\n",
        "# da_df = pd.read_csv('/content/drive/MyDrive/thesis/dataset/Wiesloch_waldangelbach_hourly_20070101-20210501.csv')\n",
        "# da_df = da_df.iloc[13:].reset_index(drop=True)\n",
        "# da_df.columns = da_df.iloc[0]\n",
        "# da_df = da_df.iloc[3:].reset_index(drop=True)\n",
        "# da_df = da_df.iloc[:, 4:7] # precipitation unit [m3/s]\n",
        "# da_df['Uhrzeit'] = da_df['Uhrzeit'].str.replace(' v', '')\n",
        "# da_df['t'] = pd.to_datetime(da_df['Datum']+' '+da_df['Uhrzeit'], format=('%y-%m-%d %H:%M:%S'))\n",
        "# da_df = da_df.iloc[:,2:]\n",
        "# da_df.columns = ['p', 't']\n",
        "# da_df = da_df[['t','p']]\n",
        "# da_df.to_csv('/content/drive/MyDrive/thesis/dataset/cleaned_df/da_df.csv', index=False)"
      ],
      "metadata": {
        "id": "qMUtOcjlnBGL"
      },
      "execution_count": 76,
      "outputs": []
    },
    {
      "cell_type": "code",
      "source": [
        "# # Cleanup Precipitation A DataFrame pa_df\n",
        "# pa_df = pd.read_csv('/content/drive/MyDrive/thesis/dataset/Weather_station_Baiertal.csv')\n",
        "# pa_df.columns = pa_df.iloc[0]\n",
        "# pa_df = pa_df.iloc[1:].reset_index(drop=True)\n",
        "# pa_df['t'] = pd.to_datetime(pa_df['date']+' '+pa_df['time'], format=('%y-%m-%d %H:%M'))\n",
        "# pa_df = pa_df.iloc[:,2:]\n",
        "# cols = list(pa_df.columns)\n",
        "# cols = [cols[-1]] + cols[:-1]\n",
        "# pa_df = pa_df[cols]\n",
        "# pa_df.to_csv('/content/drive/MyDrive/thesis/dataset/cleaned_df/pa_df.csv', index=False)\n"
      ],
      "metadata": {
        "id": "OlE3FSYSPPkE"
      },
      "execution_count": 77,
      "outputs": []
    },
    {
      "cell_type": "code",
      "source": [
        "# # Cleanup Precipitation B DataFrame pb_df\n",
        "# pb_df = pd.read_csv('/content/drive/MyDrive/thesis/dataset/Weather_station_Stifterhof.csv')\n",
        "# pb_df.columns = pb_df.iloc[0]\n",
        "# pb_df = pb_df.iloc[1:].reset_index(drop=True)\n",
        "# pb_df['t'] = pd.to_datetime(pb_df['date']+' '+pb_df['time'], format=('%y-%m-%d %H:%M'))\n",
        "# pb_df = pb_df.iloc[:,2:]\n",
        "# cols = list(pb_df.columns)\n",
        "# cols = [cols[-1]] + cols[:-1]\n",
        "# pb_df = pb_df[cols]\n",
        "# pb_df.to_csv('/content/drive/MyDrive/thesis/dataset/cleaned_df/pb_df.csv', index=False)"
      ],
      "metadata": {
        "id": "4SmG7F21aGkc"
      },
      "execution_count": null,
      "outputs": []
    }
  ]
}