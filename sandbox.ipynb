{
  "nbformat": 4,
  "nbformat_minor": 0,
  "metadata": {
    "colab": {
      "name": "sandbox.ipynb",
      "provenance": [],
      "mount_file_id": "17ughMu7uCIuMm26YZzU76zeqR-8PxVWw",
      "authorship_tag": "ABX9TyNYRTeDcY44DgIgBL89iWoV",
      "include_colab_link": true
    },
    "kernelspec": {
      "name": "python3",
      "display_name": "Python 3"
    },
    "language_info": {
      "name": "python"
    }
  },
  "cells": [
    {
      "cell_type": "markdown",
      "metadata": {
        "id": "view-in-github",
        "colab_type": "text"
      },
      "source": [
        "<a href=\"https://colab.research.google.com/github/hepuliu/Masters_Thesis/blob/main/sandbox.ipynb\" target=\"_parent\"><img src=\"https://colab.research.google.com/assets/colab-badge.svg\" alt=\"Open In Colab\"/></a>"
      ]
    },
    {
      "cell_type": "code",
      "execution_count": null,
      "metadata": {
        "id": "ejV9uAkpGmzS"
      },
      "outputs": [],
      "source": [
        ""
      ]
    },
    {
      "cell_type": "markdown",
      "source": [
        "# Data Processing"
      ],
      "metadata": {
        "id": "1fFHbl2kREy3"
      }
    },
    {
      "cell_type": "code",
      "source": [
        "# importing libraries\n",
        "import numpy as np\n",
        "import matplotlib.pyplot as plt\n",
        "import pandas as pd"
      ],
      "metadata": {
        "id": "_aQFUWW4S44w"
      },
      "execution_count": null,
      "outputs": []
    },
    {
      "cell_type": "code",
      "source": [
        "# import data sets\n",
        "from google.colab import drive\n",
        "drive.mount\n",
        "rainfall = pd.read_csv('/content/drive/MyDrive/Colab Notebooks/Thesis/Dataset/Weather_station_Baiertal.csv')\n",
        "discharge = pd.read_csv('/content/drive/MyDrive/Colab Notebooks/Thesis/Dataset/Wiesloch_waldangelbach_hourly_20070101-20210501.csv')\n",
        "rainfall\n",
        "discharge\n",
        "# dataset = pd.merge(rainfall, discharge, on='')"
      ],
      "metadata": {
        "id": "KF7fZyvgXIFI"
      },
      "execution_count": null,
      "outputs": []
    },
    {
      "cell_type": "code",
      "source": [
        "# import training set\n",
        "from google.colab import drive\n",
        "drive.mount\n",
        "dataset_train = pd.read_csv('/content/drive/MyDrive/Colab Notebooks/Thesis/Dataset/Weather_station_Baiertal.csv')\n",
        "training_set = dataset_train.iloc[:, 1:2].values"
      ],
      "metadata": {
        "id": "eRxNVpd0S7OU"
      },
      "execution_count": null,
      "outputs": []
    }
  ]
}