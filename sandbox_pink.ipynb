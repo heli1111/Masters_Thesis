{
  "nbformat": 4,
  "nbformat_minor": 0,
  "metadata": {
    "colab": {
      "name": "sandbox_pink.ipynb",
      "provenance": [],
      "collapsed_sections": [],
      "mount_file_id": "17ughMu7uCIuMm26YZzU76zeqR-8PxVWw",
      "authorship_tag": "ABX9TyPMNLsXx1QegI2oMzzIazPf",
      "include_colab_link": true
    },
    "kernelspec": {
      "name": "python3",
      "display_name": "Python 3"
    },
    "language_info": {
      "name": "python"
    },
    "gpuClass": "standard"
  },
  "cells": [
    {
      "cell_type": "markdown",
      "metadata": {
        "id": "view-in-github",
        "colab_type": "text"
      },
      "source": [
        "<a href=\"https://colab.research.google.com/github/hepuliu/Masters_Thesis/blob/sandbox_pink/sandbox_pink.ipynb\" target=\"_parent\"><img src=\"https://colab.research.google.com/assets/colab-badge.svg\" alt=\"Open In Colab\"/></a>"
      ]
    },
    {
      "cell_type": "markdown",
      "source": [
        "## Master Thesis Simulation Sandbox\n",
        "Flood Prevention Dam Sizing with Machine Learining Approaches - Hepu Liu"
      ],
      "metadata": {
        "id": "SK9SqJkgYflY"
      }
    },
    {
      "cell_type": "markdown",
      "source": [
        "### Overall Project Simulation Steps\n",
        "1. Process discharge data from Waldangelbach Station\n",
        "\n",
        "2. Process precipitation data from Baiertal  Station\n",
        "\n",
        "3. Build Prediction Model (Model A)\n",
        "\n",
        "4. Process precipitation data from Stifterhof Station\n",
        "\n",
        "5. Process precipitation data from Waibstadt Station (optional)\n",
        "\n",
        "6. Process precipitation data from Stetten Station (optional\n",
        "\n",
        "7. Fit data to Model A to predict discharge\n",
        "\n",
        "### Variable Naming Conventions\n",
        "\n",
        "- Weather Stations Naming: ('p' for precipitation, 'd' for discharge, 'a' to 'd' for different stations, 'r' for result)\n",
        "\n",
        "  - da: Waldangelbach Station\n",
        "  - pa: Baiertal Station\n",
        "  - pb: Stifterhof Station\n",
        "  - pc: Waibstadt Station\n",
        "  - pd: Stetten Station\n",
        "  - pr: combined/resulting precipitation\n",
        "  - dr: predicted/resulting discharge\n",
        "\n",
        "- Variable Naming Coventions: \n",
        "  - df: data frame\n",
        "  - trs: training set\n",
        "  - tes: testing set\n",
        "\n",
        "### NSE Equation\n",
        "\n",
        "NSE = 1 - sum(Qsim - Qobs)^2 / sum(Qobs-Qobsavg)^2"
      ],
      "metadata": {
        "id": "qglbOjh3bvqI"
      }
    },
    {
      "cell_type": "markdown",
      "source": [
        "## Importing Libraries"
      ],
      "metadata": {
        "id": "KIiBvKSSYZGo"
      }
    },
    {
      "cell_type": "code",
      "source": [
        "# importing libraries\n",
        "import csv\n",
        "import numpy as np\n",
        "import matplotlib.pyplot as plt\n",
        "import pandas as pd\n",
        "from fbprophet import Prophet\n",
        "from google.colab import drive\n",
        "drive.mount"
      ],
      "metadata": {
        "colab": {
          "base_uri": "https://localhost:8080/"
        },
        "id": "qZOjIExEcfol",
        "outputId": "310f3670-ae32-4eaa-eb46-8899439ae53b"
      },
      "execution_count": 155,
      "outputs": [
        {
          "output_type": "execute_result",
          "data": {
            "text/plain": [
              "<function google.colab.drive.mount>"
            ]
          },
          "metadata": {},
          "execution_count": 155
        }
      ]
    },
    {
      "cell_type": "markdown",
      "source": [
        "## Importing Datasets"
      ],
      "metadata": {
        "id": "aaJEQP7LYbTH"
      }
    },
    {
      "cell_type": "code",
      "source": [
        "# df_fbp = pd.read_csv('/content/drive/MyDrive/thesis/dataset/cleaned_df/df_fbp.csv')\n",
        "# df_fbp.dtypes"
      ],
      "metadata": {
        "id": "fmwRFPspwTfl"
      },
      "execution_count": 156,
      "outputs": []
    },
    {
      "cell_type": "code",
      "source": [
        "# # import datasets\n",
        "# da_dr_fbp = pd.read_csv('/content/drive/MyDrive/thesis/dataset/cleaned_df/da_dr_fbp.csv')\n",
        "# da_dr_fbp.dtypes"
      ],
      "metadata": {
        "id": "KF7fZyvgXIFI"
      },
      "execution_count": 157,
      "outputs": []
    },
    {
      "cell_type": "markdown",
      "source": [
        "## Data Processing"
      ],
      "metadata": {
        "id": "1fFHbl2kREy3"
      }
    },
    {
      "cell_type": "code",
      "source": [
        "# results_df = df_fbp.merge(da_dr_fbp, on='ds', how='left')\n",
        "# results_df.to_csv('/content/drive/MyDrive/thesis/dataset/results/da_dr_fbp.csv', index=False)"
      ],
      "metadata": {
        "id": "nxZQANv4HR2L"
      },
      "execution_count": 158,
      "outputs": []
    },
    {
      "cell_type": "code",
      "source": [
        "# import datasets\n",
        "da_dr_fbp = pd.read_csv('/content/drive/MyDrive/thesis/dataset/results/da_dr_fbp_2.csv')\n",
        "da_dr_fbp"
      ],
      "metadata": {
        "colab": {
          "base_uri": "https://localhost:8080/",
          "height": 424
        },
        "id": "_LSg4eQUJn2d",
        "outputId": "c99b6133-2a3d-49af-8254-85ea7e5d48bc"
      },
      "execution_count": 159,
      "outputs": [
        {
          "output_type": "execute_result",
          "data": {
            "text/plain": [
              "                         ds      yhat      y   temp  rad  preci\n",
              "0       2007-01-01 00:00:00  0.595867  0.226  10.00  0.0    2.6\n",
              "1       2007-01-01 01:00:00  0.423052  0.248  10.58  0.0    0.8\n",
              "2       2007-01-01 02:00:00  0.366296  0.248  11.22  0.0    0.2\n",
              "3       2007-01-01 03:00:00  0.405512  0.320  11.42  0.0    0.6\n",
              "4       2007-01-01 04:00:00  0.347893  0.346  11.58  0.0    0.0\n",
              "...                     ...       ...    ...    ...  ...    ...\n",
              "105172  2018-12-31 19:00:00  0.397530  0.232   6.19  0.0    0.0\n",
              "105173  2018-12-31 20:00:00  0.406761  0.248   6.23  0.0    0.1\n",
              "105174  2018-12-31 21:00:00  0.406496  0.232   6.25  0.0    0.1\n",
              "105175  2018-12-31 22:00:00  0.395949  0.226   6.26  0.0    0.0\n",
              "105176  2018-12-31 23:00:00  0.394490  0.226   6.26  0.0    0.0\n",
              "\n",
              "[105177 rows x 6 columns]"
            ],
            "text/html": [
              "\n",
              "  <div id=\"df-669b750e-9ac7-4a96-8a0a-db77b5efc20c\">\n",
              "    <div class=\"colab-df-container\">\n",
              "      <div>\n",
              "<style scoped>\n",
              "    .dataframe tbody tr th:only-of-type {\n",
              "        vertical-align: middle;\n",
              "    }\n",
              "\n",
              "    .dataframe tbody tr th {\n",
              "        vertical-align: top;\n",
              "    }\n",
              "\n",
              "    .dataframe thead th {\n",
              "        text-align: right;\n",
              "    }\n",
              "</style>\n",
              "<table border=\"1\" class=\"dataframe\">\n",
              "  <thead>\n",
              "    <tr style=\"text-align: right;\">\n",
              "      <th></th>\n",
              "      <th>ds</th>\n",
              "      <th>yhat</th>\n",
              "      <th>y</th>\n",
              "      <th>temp</th>\n",
              "      <th>rad</th>\n",
              "      <th>preci</th>\n",
              "    </tr>\n",
              "  </thead>\n",
              "  <tbody>\n",
              "    <tr>\n",
              "      <th>0</th>\n",
              "      <td>2007-01-01 00:00:00</td>\n",
              "      <td>0.595867</td>\n",
              "      <td>0.226</td>\n",
              "      <td>10.00</td>\n",
              "      <td>0.0</td>\n",
              "      <td>2.6</td>\n",
              "    </tr>\n",
              "    <tr>\n",
              "      <th>1</th>\n",
              "      <td>2007-01-01 01:00:00</td>\n",
              "      <td>0.423052</td>\n",
              "      <td>0.248</td>\n",
              "      <td>10.58</td>\n",
              "      <td>0.0</td>\n",
              "      <td>0.8</td>\n",
              "    </tr>\n",
              "    <tr>\n",
              "      <th>2</th>\n",
              "      <td>2007-01-01 02:00:00</td>\n",
              "      <td>0.366296</td>\n",
              "      <td>0.248</td>\n",
              "      <td>11.22</td>\n",
              "      <td>0.0</td>\n",
              "      <td>0.2</td>\n",
              "    </tr>\n",
              "    <tr>\n",
              "      <th>3</th>\n",
              "      <td>2007-01-01 03:00:00</td>\n",
              "      <td>0.405512</td>\n",
              "      <td>0.320</td>\n",
              "      <td>11.42</td>\n",
              "      <td>0.0</td>\n",
              "      <td>0.6</td>\n",
              "    </tr>\n",
              "    <tr>\n",
              "      <th>4</th>\n",
              "      <td>2007-01-01 04:00:00</td>\n",
              "      <td>0.347893</td>\n",
              "      <td>0.346</td>\n",
              "      <td>11.58</td>\n",
              "      <td>0.0</td>\n",
              "      <td>0.0</td>\n",
              "    </tr>\n",
              "    <tr>\n",
              "      <th>...</th>\n",
              "      <td>...</td>\n",
              "      <td>...</td>\n",
              "      <td>...</td>\n",
              "      <td>...</td>\n",
              "      <td>...</td>\n",
              "      <td>...</td>\n",
              "    </tr>\n",
              "    <tr>\n",
              "      <th>105172</th>\n",
              "      <td>2018-12-31 19:00:00</td>\n",
              "      <td>0.397530</td>\n",
              "      <td>0.232</td>\n",
              "      <td>6.19</td>\n",
              "      <td>0.0</td>\n",
              "      <td>0.0</td>\n",
              "    </tr>\n",
              "    <tr>\n",
              "      <th>105173</th>\n",
              "      <td>2018-12-31 20:00:00</td>\n",
              "      <td>0.406761</td>\n",
              "      <td>0.248</td>\n",
              "      <td>6.23</td>\n",
              "      <td>0.0</td>\n",
              "      <td>0.1</td>\n",
              "    </tr>\n",
              "    <tr>\n",
              "      <th>105174</th>\n",
              "      <td>2018-12-31 21:00:00</td>\n",
              "      <td>0.406496</td>\n",
              "      <td>0.232</td>\n",
              "      <td>6.25</td>\n",
              "      <td>0.0</td>\n",
              "      <td>0.1</td>\n",
              "    </tr>\n",
              "    <tr>\n",
              "      <th>105175</th>\n",
              "      <td>2018-12-31 22:00:00</td>\n",
              "      <td>0.395949</td>\n",
              "      <td>0.226</td>\n",
              "      <td>6.26</td>\n",
              "      <td>0.0</td>\n",
              "      <td>0.0</td>\n",
              "    </tr>\n",
              "    <tr>\n",
              "      <th>105176</th>\n",
              "      <td>2018-12-31 23:00:00</td>\n",
              "      <td>0.394490</td>\n",
              "      <td>0.226</td>\n",
              "      <td>6.26</td>\n",
              "      <td>0.0</td>\n",
              "      <td>0.0</td>\n",
              "    </tr>\n",
              "  </tbody>\n",
              "</table>\n",
              "<p>105177 rows × 6 columns</p>\n",
              "</div>\n",
              "      <button class=\"colab-df-convert\" onclick=\"convertToInteractive('df-669b750e-9ac7-4a96-8a0a-db77b5efc20c')\"\n",
              "              title=\"Convert this dataframe to an interactive table.\"\n",
              "              style=\"display:none;\">\n",
              "        \n",
              "  <svg xmlns=\"http://www.w3.org/2000/svg\" height=\"24px\"viewBox=\"0 0 24 24\"\n",
              "       width=\"24px\">\n",
              "    <path d=\"M0 0h24v24H0V0z\" fill=\"none\"/>\n",
              "    <path d=\"M18.56 5.44l.94 2.06.94-2.06 2.06-.94-2.06-.94-.94-2.06-.94 2.06-2.06.94zm-11 1L8.5 8.5l.94-2.06 2.06-.94-2.06-.94L8.5 2.5l-.94 2.06-2.06.94zm10 10l.94 2.06.94-2.06 2.06-.94-2.06-.94-.94-2.06-.94 2.06-2.06.94z\"/><path d=\"M17.41 7.96l-1.37-1.37c-.4-.4-.92-.59-1.43-.59-.52 0-1.04.2-1.43.59L10.3 9.45l-7.72 7.72c-.78.78-.78 2.05 0 2.83L4 21.41c.39.39.9.59 1.41.59.51 0 1.02-.2 1.41-.59l7.78-7.78 2.81-2.81c.8-.78.8-2.07 0-2.86zM5.41 20L4 18.59l7.72-7.72 1.47 1.35L5.41 20z\"/>\n",
              "  </svg>\n",
              "      </button>\n",
              "      \n",
              "  <style>\n",
              "    .colab-df-container {\n",
              "      display:flex;\n",
              "      flex-wrap:wrap;\n",
              "      gap: 12px;\n",
              "    }\n",
              "\n",
              "    .colab-df-convert {\n",
              "      background-color: #E8F0FE;\n",
              "      border: none;\n",
              "      border-radius: 50%;\n",
              "      cursor: pointer;\n",
              "      display: none;\n",
              "      fill: #1967D2;\n",
              "      height: 32px;\n",
              "      padding: 0 0 0 0;\n",
              "      width: 32px;\n",
              "    }\n",
              "\n",
              "    .colab-df-convert:hover {\n",
              "      background-color: #E2EBFA;\n",
              "      box-shadow: 0px 1px 2px rgba(60, 64, 67, 0.3), 0px 1px 3px 1px rgba(60, 64, 67, 0.15);\n",
              "      fill: #174EA6;\n",
              "    }\n",
              "\n",
              "    [theme=dark] .colab-df-convert {\n",
              "      background-color: #3B4455;\n",
              "      fill: #D2E3FC;\n",
              "    }\n",
              "\n",
              "    [theme=dark] .colab-df-convert:hover {\n",
              "      background-color: #434B5C;\n",
              "      box-shadow: 0px 1px 3px 1px rgba(0, 0, 0, 0.15);\n",
              "      filter: drop-shadow(0px 1px 2px rgba(0, 0, 0, 0.3));\n",
              "      fill: #FFFFFF;\n",
              "    }\n",
              "  </style>\n",
              "\n",
              "      <script>\n",
              "        const buttonEl =\n",
              "          document.querySelector('#df-669b750e-9ac7-4a96-8a0a-db77b5efc20c button.colab-df-convert');\n",
              "        buttonEl.style.display =\n",
              "          google.colab.kernel.accessAllowed ? 'block' : 'none';\n",
              "\n",
              "        async function convertToInteractive(key) {\n",
              "          const element = document.querySelector('#df-669b750e-9ac7-4a96-8a0a-db77b5efc20c');\n",
              "          const dataTable =\n",
              "            await google.colab.kernel.invokeFunction('convertToInteractive',\n",
              "                                                     [key], {});\n",
              "          if (!dataTable) return;\n",
              "\n",
              "          const docLinkHtml = 'Like what you see? Visit the ' +\n",
              "            '<a target=\"_blank\" href=https://colab.research.google.com/notebooks/data_table.ipynb>data table notebook</a>'\n",
              "            + ' to learn more about interactive tables.';\n",
              "          element.innerHTML = '';\n",
              "          dataTable['output_type'] = 'display_data';\n",
              "          await google.colab.output.renderOutput(dataTable, element);\n",
              "          const docLink = document.createElement('div');\n",
              "          docLink.innerHTML = docLinkHtml;\n",
              "          element.appendChild(docLink);\n",
              "        }\n",
              "      </script>\n",
              "    </div>\n",
              "  </div>\n",
              "  "
            ]
          },
          "metadata": {},
          "execution_count": 159
        }
      ]
    },
    {
      "cell_type": "markdown",
      "source": [
        "## Evaluation"
      ],
      "metadata": {
        "id": "wlmgXfFtD08B"
      }
    },
    {
      "cell_type": "code",
      "source": [
        "# Calculate NSE\n",
        "da_dr_fbp['num']= (da_dr_fbp['yhat']-da_dr_fbp['y'])**2\n",
        "da_dr_fbp['denom']=(da_dr_fbp['y']-da_dr_fbp['y'].mean())**2\n",
        "NSE = 1 - da_dr_fbp['num'].sum()/da_dr_fbp['denom'].sum()\n",
        "NSE"
      ],
      "metadata": {
        "colab": {
          "base_uri": "https://localhost:8080/"
        },
        "id": "aahpUC8WD8aI",
        "outputId": "1927daef-04a8-48de-9d45-72a37c88934b"
      },
      "execution_count": 160,
      "outputs": [
        {
          "output_type": "execute_result",
          "data": {
            "text/plain": [
              "0.18596957720361973"
            ]
          },
          "metadata": {},
          "execution_count": 160
        }
      ]
    },
    {
      "cell_type": "markdown",
      "source": [
        "# Archive"
      ],
      "metadata": {
        "id": "6w2EwQydjZZm"
      }
    },
    {
      "cell_type": "code",
      "source": [
        "# # Cleanup Discharge A DataFrame da_df\n",
        "# da_df = pd.read_csv('/content/drive/MyDrive/thesis/dataset/Wiesloch_waldangelbach_hourly_20070101-20210501.csv')\n",
        "# da_df = da_df.iloc[13:].reset_index(drop=True)\n",
        "# da_df.columns = da_df.iloc[0]\n",
        "# da_df = da_df.iloc[3:].reset_index(drop=True)\n",
        "# da_df = da_df.iloc[:, 4:7] # precipitation unit [m3/s]\n",
        "# da_df['Uhrzeit'] = da_df['Uhrzeit'].str.replace(' v', '')\n",
        "# da_df['t'] = pd.to_datetime(da_df['Datum']+' '+da_df['Uhrzeit'], format=('%y-%m-%d %H:%M:%S'))\n",
        "# da_df = da_df.iloc[:,2:]\n",
        "# da_df.columns = ['discharge [m3/s]', 't']\n",
        "# da_df = da_df[['t','discharge [m3/s]']]\n",
        "# da_df.to_csv('/content/drive/MyDrive/thesis/dataset/cleaned_df/da_df.csv', index=False)"
      ],
      "metadata": {
        "id": "qMUtOcjlnBGL"
      },
      "execution_count": 161,
      "outputs": []
    },
    {
      "cell_type": "code",
      "source": [
        "# # Cleanup Precipitation A DataFrame pa_df\n",
        "# pa_df = pd.read_csv('/content/drive/MyDrive/thesis/dataset/Weather_station_Baiertal.csv')\n",
        "# pa_df.columns = pa_df.iloc[0]\n",
        "# pa_df = pa_df.iloc[1:].reset_index(drop=True)\n",
        "# pa_df['t'] = pd.to_datetime(pa_df['date']+' '+pa_df['time'], format=('%y-%m-%d %H:%M'))\n",
        "# pa_df = pa_df.iloc[:,2:]\n",
        "# cols = list(pa_df.columns)\n",
        "# cols = [cols[-1]] + cols[:-1]\n",
        "# pa_df = pa_df[cols]\n",
        "# pa_df.to_csv('/content/drive/MyDrive/thesis/dataset/cleaned_df/pa_df.csv', index=False)\n"
      ],
      "metadata": {
        "id": "OlE3FSYSPPkE"
      },
      "execution_count": 162,
      "outputs": []
    },
    {
      "cell_type": "code",
      "source": [
        "# # Cleanup Precipitation B DataFrame pb_df\n",
        "# pb_df = pd.read_csv('/content/drive/MyDrive/thesis/dataset/Weather_station_Stifterhof.csv')\n",
        "# pb_df.columns = pb_df.iloc[0]\n",
        "# pb_df = pb_df.iloc[1:].reset_index(drop=True)\n",
        "# pb_df['t'] = pd.to_datetime(pb_df['date']+' '+pb_df['time'], format=('%y-%m-%d %H:%M'))\n",
        "# pb_df = pb_df.iloc[:,2:]\n",
        "# cols = list(pb_df.columns)\n",
        "# cols = [cols[-1]] + cols[:-1]\n",
        "# pb_df = pb_df[cols]\n",
        "# pb_df.to_csv('/content/drive/MyDrive/thesis/dataset/cleaned_df/pb_df.csv', index=False)"
      ],
      "metadata": {
        "id": "4SmG7F21aGkc"
      },
      "execution_count": 163,
      "outputs": []
    },
    {
      "cell_type": "code",
      "source": [
        "# # Plot Line Graph 20000 row with GPU = 3mins\n",
        "# def line_plot(df, title):\n",
        "#   label_font = {'family':'serif', 'color':'black', 'size':'12'}\n",
        "#   title_font = {'family':'serif', 'color':'black', 'size':'14'}\n",
        "#   fig = plt.figure(figsize=(8,8))\n",
        "#   plt.plot(df['ds'], df['yhat'])\n",
        "#   plt.xlabel( 't', fontdict = label_font)\n",
        "#   plt.ylabel( 'd', fontdict = label_font)\n",
        "#   plt.title(title, fontdict = title_font)\n",
        "   \n",
        "# # line_plot(da_df, 'Discharge A')\n"
      ],
      "metadata": {
        "id": "Dk4AyGT5TJrK"
      },
      "execution_count": 164,
      "outputs": []
    }
  ]
}