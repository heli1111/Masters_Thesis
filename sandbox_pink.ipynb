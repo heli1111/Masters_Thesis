{
  "nbformat": 4,
  "nbformat_minor": 0,
  "metadata": {
    "colab": {
      "name": "sandbox_pink.ipynb",
      "provenance": [],
      "collapsed_sections": [],
      "mount_file_id": "17ughMu7uCIuMm26YZzU76zeqR-8PxVWw",
      "authorship_tag": "ABX9TyP3SmA3e31aNdvvNc5iFrAW",
      "include_colab_link": true
    },
    "kernelspec": {
      "name": "python3",
      "display_name": "Python 3"
    },
    "language_info": {
      "name": "python"
    },
    "gpuClass": "standard"
  },
  "cells": [
    {
      "cell_type": "markdown",
      "metadata": {
        "id": "view-in-github",
        "colab_type": "text"
      },
      "source": [
        "<a href=\"https://colab.research.google.com/github/hepuliu/Masters_Thesis/blob/sandbox_pink/sandbox_pink.ipynb\" target=\"_parent\"><img src=\"https://colab.research.google.com/assets/colab-badge.svg\" alt=\"Open In Colab\"/></a>"
      ]
    },
    {
      "cell_type": "markdown",
      "source": [
        "## Master Thesis Simulation Sandbox\n",
        "Flood Prevention Dam Sizing with Machine Learining Approaches - Hepu Liu"
      ],
      "metadata": {
        "id": "SK9SqJkgYflY"
      }
    },
    {
      "cell_type": "markdown",
      "source": [
        "### Overall Project Simulation Steps\n",
        "1. Process discharge data from Waldangelbach Station\n",
        "\n",
        "2. Process precipitation data from Baiertal  Station\n",
        "\n",
        "3. Build Prediction Models\n",
        "\n",
        "4. Evaluation of NSE\n",
        "\n",
        "### Variable Naming Conventions\n",
        "\n",
        "- Weather Stations Naming: ('p' for precipitation, 'd' for discharge, 'a' for different stations, 'r' for result)\n",
        "\n",
        "  - da: Waldangelbach Station\n",
        "  - pa: Baiertal Station\n",
        "  - pr: combined/resulting precipitation\n",
        "  - dr: predicted/resulting discharge\n",
        "\n",
        "- Variable Naming Coventions: \n",
        "  - df: data frame\n",
        "  - trs: training set\n",
        "  - tes: testing set\n",
        "  - lstm: LSTM\n",
        "  - cnn: CNN\n",
        "  - lstmss: LSTM-seq2sqe\n"
      ],
      "metadata": {
        "id": "qglbOjh3bvqI"
      }
    },
    {
      "cell_type": "markdown",
      "source": [
        "## Importing Libraries"
      ],
      "metadata": {
        "id": "KIiBvKSSYZGo"
      }
    },
    {
      "cell_type": "code",
      "source": [
        "# importing libraries\n",
        "import csv\n",
        "import numpy as np\n",
        "import matplotlib.pyplot as plt\n",
        "import pandas as pd\n",
        "from fbprophet import Prophet\n",
        "from sklearn.preprocessing import MinMaxScaler\n",
        "from pandas import DataFrame\n",
        "from pandas import concat\n",
        "from math import sqrt\n",
        "from numpy import concatenate\n",
        "from numpy import loadtxt\n",
        "from pandas import DataFrame\n",
        "from pandas import concat\n",
        "from sklearn.preprocessing import LabelEncoder\n",
        "from sklearn.metrics import mean_squared_error\n",
        "from keras.models import Sequential\n",
        "from keras.layers import Dense, Dropout\n",
        "from keras.layers import LSTM\n",
        "from sklearn.model_selection import train_test_split\n",
        "from google.colab import drive\n",
        "drive.mount"
      ],
      "metadata": {
        "colab": {
          "base_uri": "https://localhost:8080/"
        },
        "id": "qZOjIExEcfol",
        "outputId": "eaf476f5-724e-4f18-e7cd-b47239ac9509"
      },
      "execution_count": 1,
      "outputs": [
        {
          "output_type": "execute_result",
          "data": {
            "text/plain": [
              "<function google.colab.drive.mount>"
            ]
          },
          "metadata": {},
          "execution_count": 1
        }
      ]
    },
    {
      "cell_type": "markdown",
      "source": [
        "## Importing Datasets"
      ],
      "metadata": {
        "id": "aaJEQP7LYbTH"
      }
    },
    {
      "cell_type": "code",
      "source": [
        "# import datafram for CNN\n",
        "df_cnn = pd.read_csv('/content/drive/MyDrive/thesis/dataset/cleaned_df/df_cnn.csv')\n",
        "df_cnn"
      ],
      "metadata": {
        "colab": {
          "base_uri": "https://localhost:8080/",
          "height": 424
        },
        "id": "YKCS3Ce1epsl",
        "outputId": "d5f240dd-cb35-4edd-af2b-a8f0c4bb30e7"
      },
      "execution_count": 2,
      "outputs": [
        {
          "output_type": "execute_result",
          "data": {
            "text/plain": [
              "                         ds      y   temp  rad  preci\n",
              "0       2007-01-01 00:00:00  0.226  10.00  0.0    2.6\n",
              "1       2007-01-01 01:00:00  0.248  10.58  0.0    0.8\n",
              "2       2007-01-01 02:00:00  0.248  11.22  0.0    0.2\n",
              "3       2007-01-01 03:00:00  0.320  11.42  0.0    0.6\n",
              "4       2007-01-01 04:00:00  0.346  11.58  0.0    0.0\n",
              "...                     ...    ...    ...  ...    ...\n",
              "105148  2018-12-31 19:00:00  0.232   6.19  0.0    0.0\n",
              "105149  2018-12-31 20:00:00  0.248   6.23  0.0    0.1\n",
              "105150  2018-12-31 21:00:00  0.232   6.25  0.0    0.1\n",
              "105151  2018-12-31 22:00:00  0.226   6.26  0.0    0.0\n",
              "105152  2018-12-31 23:00:00  0.226   6.26  0.0    0.0\n",
              "\n",
              "[105153 rows x 5 columns]"
            ],
            "text/html": [
              "\n",
              "  <div id=\"df-bb3ef826-02dc-4c21-938a-4a03abfdc18a\">\n",
              "    <div class=\"colab-df-container\">\n",
              "      <div>\n",
              "<style scoped>\n",
              "    .dataframe tbody tr th:only-of-type {\n",
              "        vertical-align: middle;\n",
              "    }\n",
              "\n",
              "    .dataframe tbody tr th {\n",
              "        vertical-align: top;\n",
              "    }\n",
              "\n",
              "    .dataframe thead th {\n",
              "        text-align: right;\n",
              "    }\n",
              "</style>\n",
              "<table border=\"1\" class=\"dataframe\">\n",
              "  <thead>\n",
              "    <tr style=\"text-align: right;\">\n",
              "      <th></th>\n",
              "      <th>ds</th>\n",
              "      <th>y</th>\n",
              "      <th>temp</th>\n",
              "      <th>rad</th>\n",
              "      <th>preci</th>\n",
              "    </tr>\n",
              "  </thead>\n",
              "  <tbody>\n",
              "    <tr>\n",
              "      <th>0</th>\n",
              "      <td>2007-01-01 00:00:00</td>\n",
              "      <td>0.226</td>\n",
              "      <td>10.00</td>\n",
              "      <td>0.0</td>\n",
              "      <td>2.6</td>\n",
              "    </tr>\n",
              "    <tr>\n",
              "      <th>1</th>\n",
              "      <td>2007-01-01 01:00:00</td>\n",
              "      <td>0.248</td>\n",
              "      <td>10.58</td>\n",
              "      <td>0.0</td>\n",
              "      <td>0.8</td>\n",
              "    </tr>\n",
              "    <tr>\n",
              "      <th>2</th>\n",
              "      <td>2007-01-01 02:00:00</td>\n",
              "      <td>0.248</td>\n",
              "      <td>11.22</td>\n",
              "      <td>0.0</td>\n",
              "      <td>0.2</td>\n",
              "    </tr>\n",
              "    <tr>\n",
              "      <th>3</th>\n",
              "      <td>2007-01-01 03:00:00</td>\n",
              "      <td>0.320</td>\n",
              "      <td>11.42</td>\n",
              "      <td>0.0</td>\n",
              "      <td>0.6</td>\n",
              "    </tr>\n",
              "    <tr>\n",
              "      <th>4</th>\n",
              "      <td>2007-01-01 04:00:00</td>\n",
              "      <td>0.346</td>\n",
              "      <td>11.58</td>\n",
              "      <td>0.0</td>\n",
              "      <td>0.0</td>\n",
              "    </tr>\n",
              "    <tr>\n",
              "      <th>...</th>\n",
              "      <td>...</td>\n",
              "      <td>...</td>\n",
              "      <td>...</td>\n",
              "      <td>...</td>\n",
              "      <td>...</td>\n",
              "    </tr>\n",
              "    <tr>\n",
              "      <th>105148</th>\n",
              "      <td>2018-12-31 19:00:00</td>\n",
              "      <td>0.232</td>\n",
              "      <td>6.19</td>\n",
              "      <td>0.0</td>\n",
              "      <td>0.0</td>\n",
              "    </tr>\n",
              "    <tr>\n",
              "      <th>105149</th>\n",
              "      <td>2018-12-31 20:00:00</td>\n",
              "      <td>0.248</td>\n",
              "      <td>6.23</td>\n",
              "      <td>0.0</td>\n",
              "      <td>0.1</td>\n",
              "    </tr>\n",
              "    <tr>\n",
              "      <th>105150</th>\n",
              "      <td>2018-12-31 21:00:00</td>\n",
              "      <td>0.232</td>\n",
              "      <td>6.25</td>\n",
              "      <td>0.0</td>\n",
              "      <td>0.1</td>\n",
              "    </tr>\n",
              "    <tr>\n",
              "      <th>105151</th>\n",
              "      <td>2018-12-31 22:00:00</td>\n",
              "      <td>0.226</td>\n",
              "      <td>6.26</td>\n",
              "      <td>0.0</td>\n",
              "      <td>0.0</td>\n",
              "    </tr>\n",
              "    <tr>\n",
              "      <th>105152</th>\n",
              "      <td>2018-12-31 23:00:00</td>\n",
              "      <td>0.226</td>\n",
              "      <td>6.26</td>\n",
              "      <td>0.0</td>\n",
              "      <td>0.0</td>\n",
              "    </tr>\n",
              "  </tbody>\n",
              "</table>\n",
              "<p>105153 rows × 5 columns</p>\n",
              "</div>\n",
              "      <button class=\"colab-df-convert\" onclick=\"convertToInteractive('df-bb3ef826-02dc-4c21-938a-4a03abfdc18a')\"\n",
              "              title=\"Convert this dataframe to an interactive table.\"\n",
              "              style=\"display:none;\">\n",
              "        \n",
              "  <svg xmlns=\"http://www.w3.org/2000/svg\" height=\"24px\"viewBox=\"0 0 24 24\"\n",
              "       width=\"24px\">\n",
              "    <path d=\"M0 0h24v24H0V0z\" fill=\"none\"/>\n",
              "    <path d=\"M18.56 5.44l.94 2.06.94-2.06 2.06-.94-2.06-.94-.94-2.06-.94 2.06-2.06.94zm-11 1L8.5 8.5l.94-2.06 2.06-.94-2.06-.94L8.5 2.5l-.94 2.06-2.06.94zm10 10l.94 2.06.94-2.06 2.06-.94-2.06-.94-.94-2.06-.94 2.06-2.06.94z\"/><path d=\"M17.41 7.96l-1.37-1.37c-.4-.4-.92-.59-1.43-.59-.52 0-1.04.2-1.43.59L10.3 9.45l-7.72 7.72c-.78.78-.78 2.05 0 2.83L4 21.41c.39.39.9.59 1.41.59.51 0 1.02-.2 1.41-.59l7.78-7.78 2.81-2.81c.8-.78.8-2.07 0-2.86zM5.41 20L4 18.59l7.72-7.72 1.47 1.35L5.41 20z\"/>\n",
              "  </svg>\n",
              "      </button>\n",
              "      \n",
              "  <style>\n",
              "    .colab-df-container {\n",
              "      display:flex;\n",
              "      flex-wrap:wrap;\n",
              "      gap: 12px;\n",
              "    }\n",
              "\n",
              "    .colab-df-convert {\n",
              "      background-color: #E8F0FE;\n",
              "      border: none;\n",
              "      border-radius: 50%;\n",
              "      cursor: pointer;\n",
              "      display: none;\n",
              "      fill: #1967D2;\n",
              "      height: 32px;\n",
              "      padding: 0 0 0 0;\n",
              "      width: 32px;\n",
              "    }\n",
              "\n",
              "    .colab-df-convert:hover {\n",
              "      background-color: #E2EBFA;\n",
              "      box-shadow: 0px 1px 2px rgba(60, 64, 67, 0.3), 0px 1px 3px 1px rgba(60, 64, 67, 0.15);\n",
              "      fill: #174EA6;\n",
              "    }\n",
              "\n",
              "    [theme=dark] .colab-df-convert {\n",
              "      background-color: #3B4455;\n",
              "      fill: #D2E3FC;\n",
              "    }\n",
              "\n",
              "    [theme=dark] .colab-df-convert:hover {\n",
              "      background-color: #434B5C;\n",
              "      box-shadow: 0px 1px 3px 1px rgba(0, 0, 0, 0.15);\n",
              "      filter: drop-shadow(0px 1px 2px rgba(0, 0, 0, 0.3));\n",
              "      fill: #FFFFFF;\n",
              "    }\n",
              "  </style>\n",
              "\n",
              "      <script>\n",
              "        const buttonEl =\n",
              "          document.querySelector('#df-bb3ef826-02dc-4c21-938a-4a03abfdc18a button.colab-df-convert');\n",
              "        buttonEl.style.display =\n",
              "          google.colab.kernel.accessAllowed ? 'block' : 'none';\n",
              "\n",
              "        async function convertToInteractive(key) {\n",
              "          const element = document.querySelector('#df-bb3ef826-02dc-4c21-938a-4a03abfdc18a');\n",
              "          const dataTable =\n",
              "            await google.colab.kernel.invokeFunction('convertToInteractive',\n",
              "                                                     [key], {});\n",
              "          if (!dataTable) return;\n",
              "\n",
              "          const docLinkHtml = 'Like what you see? Visit the ' +\n",
              "            '<a target=\"_blank\" href=https://colab.research.google.com/notebooks/data_table.ipynb>data table notebook</a>'\n",
              "            + ' to learn more about interactive tables.';\n",
              "          element.innerHTML = '';\n",
              "          dataTable['output_type'] = 'display_data';\n",
              "          await google.colab.output.renderOutput(dataTable, element);\n",
              "          const docLink = document.createElement('div');\n",
              "          docLink.innerHTML = docLinkHtml;\n",
              "          element.appendChild(docLink);\n",
              "        }\n",
              "      </script>\n",
              "    </div>\n",
              "  </div>\n",
              "  "
            ]
          },
          "metadata": {},
          "execution_count": 2
        }
      ]
    },
    {
      "cell_type": "markdown",
      "source": [
        "## Data Processing"
      ],
      "metadata": {
        "id": "1fFHbl2kREy3"
      }
    },
    {
      "cell_type": "markdown",
      "source": [
        "## Evaluation"
      ],
      "metadata": {
        "id": "wlmgXfFtD08B"
      }
    },
    {
      "cell_type": "markdown",
      "source": [
        "# Archive"
      ],
      "metadata": {
        "id": "6w2EwQydjZZm"
      }
    },
    {
      "cell_type": "code",
      "source": [
        "# # Cleanup Discharge A DataFrame da_df\n",
        "# da_df = pd.read_csv('/content/drive/MyDrive/thesis/dataset/Wiesloch_waldangelbach_hourly_20070101-20210501.csv')\n",
        "# da_df = da_df.iloc[13:].reset_index(drop=True)\n",
        "# da_df.columns = da_df.iloc[0]\n",
        "# da_df = da_df.iloc[3:].reset_index(drop=True)\n",
        "# da_df = da_df.iloc[:, 4:7] # precipitation unit [m3/s]\n",
        "# da_df['Uhrzeit'] = da_df['Uhrzeit'].str.replace(' v', '')\n",
        "# da_df['t'] = pd.to_datetime(da_df['Datum']+' '+da_df['Uhrzeit'], format=('%y-%m-%d %H:%M:%S'))\n",
        "# da_df = da_df.iloc[:,2:]\n",
        "# da_df.columns = ['discharge [m3/s]', 't']\n",
        "# da_df = da_df[['t','discharge [m3/s]']]\n",
        "# da_df.to_csv('/content/drive/MyDrive/thesis/dataset/cleaned_df/da_df.csv', index=False)"
      ],
      "metadata": {
        "id": "qMUtOcjlnBGL"
      },
      "execution_count": 3,
      "outputs": []
    },
    {
      "cell_type": "code",
      "source": [
        "# # Cleanup Precipitation A DataFrame pa_df\n",
        "# pa_df = pd.read_csv('/content/drive/MyDrive/thesis/dataset/Weather_station_Baiertal.csv')\n",
        "# pa_df.columns = pa_df.iloc[0]\n",
        "# pa_df = pa_df.iloc[1:].reset_index(drop=True)\n",
        "# pa_df['t'] = pd.to_datetime(pa_df['date']+' '+pa_df['time'], format=('%y-%m-%d %H:%M'))\n",
        "# pa_df = pa_df.iloc[:,2:]\n",
        "# cols = list(pa_df.columns)\n",
        "# cols = [cols[-1]] + cols[:-1]\n",
        "# pa_df = pa_df[cols]\n",
        "# pa_df.to_csv('/content/drive/MyDrive/thesis/dataset/cleaned_df/pa_df.csv', index=False)\n"
      ],
      "metadata": {
        "id": "OlE3FSYSPPkE"
      },
      "execution_count": 4,
      "outputs": []
    },
    {
      "cell_type": "code",
      "source": [
        "# # Cleanup Precipitation B DataFrame pb_df\n",
        "# pb_df = pd.read_csv('/content/drive/MyDrive/thesis/dataset/Weather_station_Stifterhof.csv')\n",
        "# pb_df.columns = pb_df.iloc[0]\n",
        "# pb_df = pb_df.iloc[1:].reset_index(drop=True)\n",
        "# pb_df['t'] = pd.to_datetime(pb_df['date']+' '+pb_df['time'], format=('%y-%m-%d %H:%M'))\n",
        "# pb_df = pb_df.iloc[:,2:]\n",
        "# cols = list(pb_df.columns)\n",
        "# cols = [cols[-1]] + cols[:-1]\n",
        "# pb_df = pb_df[cols]\n",
        "# pb_df.to_csv('/content/drive/MyDrive/thesis/dataset/cleaned_df/pb_df.csv', index=False)"
      ],
      "metadata": {
        "id": "4SmG7F21aGkc"
      },
      "execution_count": 5,
      "outputs": []
    },
    {
      "cell_type": "code",
      "source": [
        "# # Plot Line Graph 20000 row with GPU = 3mins\n",
        "# def line_plot(df, title):\n",
        "#   label_font = {'family':'serif', 'color':'black', 'size':'12'}\n",
        "#   title_font = {'family':'serif', 'color':'black', 'size':'14'}\n",
        "#   fig = plt.figure(figsize=(8,8))\n",
        "#   plt.plot(df['ds'], df['yhat'])\n",
        "#   plt.xlabel( 't', fontdict = label_font)\n",
        "#   plt.ylabel( 'd', fontdict = label_font)\n",
        "#   plt.title(title, fontdict = title_font)\n",
        "   \n",
        "# # line_plot(da_df, 'Discharge A')\n"
      ],
      "metadata": {
        "id": "Dk4AyGT5TJrK"
      },
      "execution_count": 6,
      "outputs": []
    },
    {
      "cell_type": "code",
      "source": [
        "# df_fbp = pd.read_csv('/content/drive/MyDrive/thesis/dataset/cleaned_df/df_fbp.csv')\n",
        "# df_fbp.dtypes"
      ],
      "metadata": {
        "id": "fmwRFPspwTfl"
      },
      "execution_count": 7,
      "outputs": []
    },
    {
      "cell_type": "code",
      "source": [
        "# # import datasets\n",
        "# da_dr_fbp = pd.read_csv('/content/drive/MyDrive/thesis/dataset/cleaned_df/da_dr_fbp.csv')\n",
        "# da_dr_fbp.dtypes"
      ],
      "metadata": {
        "id": "KF7fZyvgXIFI"
      },
      "execution_count": 8,
      "outputs": []
    },
    {
      "cell_type": "code",
      "source": [
        "# # Calculate NSE FBProphet\n",
        "# da_dr_fbp['num']= (da_dr_fbp['y']-da_dr_fbp['yhat'])**2\n",
        "# da_dr_fbp['denom']=(da_dr_fbp['y']-da_dr_fbp['y'].mean())**2\n",
        "# NSE = 1 - (da_dr_fbp['num'].sum()/da_dr_fbp['denom'].sum())\n",
        "# NSE"
      ],
      "metadata": {
        "id": "aahpUC8WD8aI"
      },
      "execution_count": 9,
      "outputs": []
    },
    {
      "cell_type": "code",
      "source": [
        "# # NSE Calculation and Plot\n",
        "\n",
        "# o = np.array([1,2,3,4,5,6,7,8,9,10,2,3,4,5,6,7])\n",
        "# m = np.array([1.1,2.2,3.2,4,5,6.1,7.2,8.5,8,10.5,1,2,4,5,6,7])\n",
        "# # nse = 1-(np.sum((p-t)**2)/np.sum((t-np.mean(t))**2))\n",
        "# # print('Test NSE: %.3f' % nse)\n",
        "# # plot\n",
        "\n",
        "\n",
        "# fig= plt.figure(figsize=(14, 4))\n",
        "# plt.title('Insert Title')\n",
        "# plt.plot(o, label='observed', color='#00688b', linewidth=0.5)\n",
        "# plt.plot(m, label='model', color='#ee7600', linewidth=0.5)\n",
        "# plt.plot([], [], ' ', label='NSE = %.3f' % nse)\n",
        "# plt.ylabel('y label')\n",
        "# plt.ylabel('x label')\n",
        "# plt.legend()\n",
        "# plt.show()\n",
        "\n"
      ],
      "metadata": {
        "id": "5HHU6Evxk47G"
      },
      "execution_count": 10,
      "outputs": []
    },
    {
      "cell_type": "code",
      "source": [
        "# results_df = df_fbp.merge(da_dr_fbp, on='ds', how='left')\n",
        "# results_df.to_csv('/content/drive/MyDrive/thesis/dataset/results/da_dr_fbp.csv', index=False)"
      ],
      "metadata": {
        "id": "nxZQANv4HR2L"
      },
      "execution_count": 11,
      "outputs": []
    },
    {
      "cell_type": "code",
      "source": [
        "# # import datasets\n",
        "# da_dr_fbp = pd.read_csv('/content/drive/MyDrive/thesis/dataset/results/da_dr_fbp_2.csv')\n",
        "# da_dr_fbp"
      ],
      "metadata": {
        "id": "_LSg4eQUJn2d"
      },
      "execution_count": 12,
      "outputs": []
    }
  ]
}