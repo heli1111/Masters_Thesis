{
  "nbformat": 4,
  "nbformat_minor": 0,
  "metadata": {
    "colab": {
      "name": "CNN.ipynb",
      "provenance": [],
      "collapsed_sections": [],
      "mount_file_id": "1CzE7HMqD3CuS5i6fxmbImmUauRDkYpyV",
      "authorship_tag": "ABX9TyMXjnhEFKyGk4kJfFUIC7/p",
      "include_colab_link": true
    },
    "kernelspec": {
      "name": "python3",
      "display_name": "Python 3"
    },
    "language_info": {
      "name": "python"
    },
    "gpuClass": "standard"
  },
  "cells": [
    {
      "cell_type": "markdown",
      "metadata": {
        "id": "view-in-github",
        "colab_type": "text"
      },
      "source": [
        "<a href=\"https://colab.research.google.com/github/hepuliu/Masters_Thesis/blob/main/CNN.ipynb\" target=\"_parent\"><img src=\"https://colab.research.google.com/assets/colab-badge.svg\" alt=\"Open In Colab\"/></a>"
      ]
    },
    {
      "cell_type": "markdown",
      "source": [
        "## Master Thesis Simulation - CNN Model\n",
        "\n",
        "*Flood Prevention with Machine Learining - Hepu Liu*\n",
        "\n",
        "---\n",
        "\n",
        "**This Notebook is Dedicated to the CNN Model Simulations**"
      ],
      "metadata": {
        "id": "SK9SqJkgYflY"
      }
    },
    {
      "cell_type": "markdown",
      "source": [
        "### Overall Project Simulation Steps\n",
        "1. Process discharge data from Waldangelbach Station\n",
        "\n",
        "2. Process precipitation data from Baiertal  Station\n",
        "\n",
        "3. Build Prediction Models\n",
        "\n",
        "4. Evaluation of NSE\n",
        "\n",
        "### Variable Naming Conventions\n",
        "\n",
        "- Weather Stations Naming: ('p' for precipitation, 'd' for discharge, 'a' for different stations, 'r' for result)\n",
        "\n",
        "  - da: Waldangelbach Station\n",
        "  - pa: Baiertal Station\n",
        "  - pr: combined/resulting precipitation\n",
        "  - dr: predicted/resulting discharge\n",
        "\n",
        "- Variable Naming Coventions: \n",
        "  - df: data frame\n",
        "  - trs: training set\n",
        "  - tes: testing set\n",
        "  - lstm: LSTM\n",
        "  - cnn: CNN\n",
        "  - lstmss: LSTM-seq2sqe\n"
      ],
      "metadata": {
        "id": "qglbOjh3bvqI"
      }
    },
    {
      "cell_type": "markdown",
      "source": [
        "## Importing Libraries"
      ],
      "metadata": {
        "id": "KIiBvKSSYZGo"
      }
    },
    {
      "cell_type": "code",
      "source": [
        "# importing libraries\n",
        "import csv\n",
        "import numpy as np\n",
        "import matplotlib.pyplot as plt\n",
        "import pandas as pd\n",
        "from sklearn.preprocessing import MinMaxScaler\n",
        "from pandas import DataFrame\n",
        "from pandas import concat\n",
        "from math import sqrt\n",
        "from numpy import concatenate\n",
        "from numpy import loadtxt\n",
        "from numpy import array\n",
        "from pandas import DataFrame\n",
        "from pandas import concat\n",
        "from sklearn.preprocessing import LabelEncoder\n",
        "from sklearn.metrics import mean_squared_error\n",
        "from keras.models import Sequential\n",
        "from keras.layers import Dense, Dropout\n",
        "from keras.layers import LSTM\n",
        "from keras.layers import Flatten\n",
        "from keras.layers.convolutional import Conv1D\n",
        "from keras.layers.convolutional import MaxPooling1D\n",
        "from sklearn.model_selection import train_test_split\n",
        "from google.colab import drive\n",
        "drive.mount"
      ],
      "metadata": {
        "colab": {
          "base_uri": "https://localhost:8080/"
        },
        "id": "qZOjIExEcfol",
        "outputId": "fa397efd-9c82-45d3-ec26-4001cd5e92d6"
      },
      "execution_count": 60,
      "outputs": [
        {
          "output_type": "execute_result",
          "data": {
            "text/plain": [
              "<function google.colab.drive.mount>"
            ]
          },
          "metadata": {},
          "execution_count": 60
        }
      ]
    },
    {
      "cell_type": "markdown",
      "source": [
        "## Importing Datasets"
      ],
      "metadata": {
        "id": "aaJEQP7LYbTH"
      }
    },
    {
      "cell_type": "code",
      "source": [
        "# import datafram for CNN\n",
        "df_cnn = pd.read_csv('/content/drive/MyDrive/thesis/dataset/cleaned_df/df_cnn.csv')\n",
        "df_cnn.head()"
      ],
      "metadata": {
        "id": "YKCS3Ce1epsl",
        "colab": {
          "base_uri": "https://localhost:8080/",
          "height": 206
        },
        "outputId": "2ffe3625-0712-44e3-c241-72bac1fa9deb"
      },
      "execution_count": 61,
      "outputs": [
        {
          "output_type": "execute_result",
          "data": {
            "text/plain": [
              "                    ds      y   temp  rad  preci\n",
              "0  2007-01-01 00:00:00  0.226  10.00  0.0    2.6\n",
              "1  2007-01-01 01:00:00  0.248  10.58  0.0    0.8\n",
              "2  2007-01-01 02:00:00  0.248  11.22  0.0    0.2\n",
              "3  2007-01-01 03:00:00  0.320  11.42  0.0    0.6\n",
              "4  2007-01-01 04:00:00  0.346  11.58  0.0    0.0"
            ],
            "text/html": [
              "\n",
              "  <div id=\"df-9a0a6543-e66d-4efe-b97b-2ad76cbd75a4\">\n",
              "    <div class=\"colab-df-container\">\n",
              "      <div>\n",
              "<style scoped>\n",
              "    .dataframe tbody tr th:only-of-type {\n",
              "        vertical-align: middle;\n",
              "    }\n",
              "\n",
              "    .dataframe tbody tr th {\n",
              "        vertical-align: top;\n",
              "    }\n",
              "\n",
              "    .dataframe thead th {\n",
              "        text-align: right;\n",
              "    }\n",
              "</style>\n",
              "<table border=\"1\" class=\"dataframe\">\n",
              "  <thead>\n",
              "    <tr style=\"text-align: right;\">\n",
              "      <th></th>\n",
              "      <th>ds</th>\n",
              "      <th>y</th>\n",
              "      <th>temp</th>\n",
              "      <th>rad</th>\n",
              "      <th>preci</th>\n",
              "    </tr>\n",
              "  </thead>\n",
              "  <tbody>\n",
              "    <tr>\n",
              "      <th>0</th>\n",
              "      <td>2007-01-01 00:00:00</td>\n",
              "      <td>0.226</td>\n",
              "      <td>10.00</td>\n",
              "      <td>0.0</td>\n",
              "      <td>2.6</td>\n",
              "    </tr>\n",
              "    <tr>\n",
              "      <th>1</th>\n",
              "      <td>2007-01-01 01:00:00</td>\n",
              "      <td>0.248</td>\n",
              "      <td>10.58</td>\n",
              "      <td>0.0</td>\n",
              "      <td>0.8</td>\n",
              "    </tr>\n",
              "    <tr>\n",
              "      <th>2</th>\n",
              "      <td>2007-01-01 02:00:00</td>\n",
              "      <td>0.248</td>\n",
              "      <td>11.22</td>\n",
              "      <td>0.0</td>\n",
              "      <td>0.2</td>\n",
              "    </tr>\n",
              "    <tr>\n",
              "      <th>3</th>\n",
              "      <td>2007-01-01 03:00:00</td>\n",
              "      <td>0.320</td>\n",
              "      <td>11.42</td>\n",
              "      <td>0.0</td>\n",
              "      <td>0.6</td>\n",
              "    </tr>\n",
              "    <tr>\n",
              "      <th>4</th>\n",
              "      <td>2007-01-01 04:00:00</td>\n",
              "      <td>0.346</td>\n",
              "      <td>11.58</td>\n",
              "      <td>0.0</td>\n",
              "      <td>0.0</td>\n",
              "    </tr>\n",
              "  </tbody>\n",
              "</table>\n",
              "</div>\n",
              "      <button class=\"colab-df-convert\" onclick=\"convertToInteractive('df-9a0a6543-e66d-4efe-b97b-2ad76cbd75a4')\"\n",
              "              title=\"Convert this dataframe to an interactive table.\"\n",
              "              style=\"display:none;\">\n",
              "        \n",
              "  <svg xmlns=\"http://www.w3.org/2000/svg\" height=\"24px\"viewBox=\"0 0 24 24\"\n",
              "       width=\"24px\">\n",
              "    <path d=\"M0 0h24v24H0V0z\" fill=\"none\"/>\n",
              "    <path d=\"M18.56 5.44l.94 2.06.94-2.06 2.06-.94-2.06-.94-.94-2.06-.94 2.06-2.06.94zm-11 1L8.5 8.5l.94-2.06 2.06-.94-2.06-.94L8.5 2.5l-.94 2.06-2.06.94zm10 10l.94 2.06.94-2.06 2.06-.94-2.06-.94-.94-2.06-.94 2.06-2.06.94z\"/><path d=\"M17.41 7.96l-1.37-1.37c-.4-.4-.92-.59-1.43-.59-.52 0-1.04.2-1.43.59L10.3 9.45l-7.72 7.72c-.78.78-.78 2.05 0 2.83L4 21.41c.39.39.9.59 1.41.59.51 0 1.02-.2 1.41-.59l7.78-7.78 2.81-2.81c.8-.78.8-2.07 0-2.86zM5.41 20L4 18.59l7.72-7.72 1.47 1.35L5.41 20z\"/>\n",
              "  </svg>\n",
              "      </button>\n",
              "      \n",
              "  <style>\n",
              "    .colab-df-container {\n",
              "      display:flex;\n",
              "      flex-wrap:wrap;\n",
              "      gap: 12px;\n",
              "    }\n",
              "\n",
              "    .colab-df-convert {\n",
              "      background-color: #E8F0FE;\n",
              "      border: none;\n",
              "      border-radius: 50%;\n",
              "      cursor: pointer;\n",
              "      display: none;\n",
              "      fill: #1967D2;\n",
              "      height: 32px;\n",
              "      padding: 0 0 0 0;\n",
              "      width: 32px;\n",
              "    }\n",
              "\n",
              "    .colab-df-convert:hover {\n",
              "      background-color: #E2EBFA;\n",
              "      box-shadow: 0px 1px 2px rgba(60, 64, 67, 0.3), 0px 1px 3px 1px rgba(60, 64, 67, 0.15);\n",
              "      fill: #174EA6;\n",
              "    }\n",
              "\n",
              "    [theme=dark] .colab-df-convert {\n",
              "      background-color: #3B4455;\n",
              "      fill: #D2E3FC;\n",
              "    }\n",
              "\n",
              "    [theme=dark] .colab-df-convert:hover {\n",
              "      background-color: #434B5C;\n",
              "      box-shadow: 0px 1px 3px 1px rgba(0, 0, 0, 0.15);\n",
              "      filter: drop-shadow(0px 1px 2px rgba(0, 0, 0, 0.3));\n",
              "      fill: #FFFFFF;\n",
              "    }\n",
              "  </style>\n",
              "\n",
              "      <script>\n",
              "        const buttonEl =\n",
              "          document.querySelector('#df-9a0a6543-e66d-4efe-b97b-2ad76cbd75a4 button.colab-df-convert');\n",
              "        buttonEl.style.display =\n",
              "          google.colab.kernel.accessAllowed ? 'block' : 'none';\n",
              "\n",
              "        async function convertToInteractive(key) {\n",
              "          const element = document.querySelector('#df-9a0a6543-e66d-4efe-b97b-2ad76cbd75a4');\n",
              "          const dataTable =\n",
              "            await google.colab.kernel.invokeFunction('convertToInteractive',\n",
              "                                                     [key], {});\n",
              "          if (!dataTable) return;\n",
              "\n",
              "          const docLinkHtml = 'Like what you see? Visit the ' +\n",
              "            '<a target=\"_blank\" href=https://colab.research.google.com/notebooks/data_table.ipynb>data table notebook</a>'\n",
              "            + ' to learn more about interactive tables.';\n",
              "          element.innerHTML = '';\n",
              "          dataTable['output_type'] = 'display_data';\n",
              "          await google.colab.output.renderOutput(dataTable, element);\n",
              "          const docLink = document.createElement('div');\n",
              "          docLink.innerHTML = docLinkHtml;\n",
              "          element.appendChild(docLink);\n",
              "        }\n",
              "      </script>\n",
              "    </div>\n",
              "  </div>\n",
              "  "
            ]
          },
          "metadata": {},
          "execution_count": 61
        }
      ]
    },
    {
      "cell_type": "markdown",
      "source": [
        "## Data Processing"
      ],
      "metadata": {
        "id": "1fFHbl2kREy3"
      }
    },
    {
      "cell_type": "code",
      "source": [
        "# Data Processing for Multivariable CNN - Small Sample Size for Testing\n",
        "df_cnn = df_cnn.set_index('ds')\n",
        "df_cnn = df_cnn[['temp', 'rad', 'preci', 'y']]\n",
        "df_cnn = df_cnn.to_numpy()"
      ],
      "metadata": {
        "id": "dwgQbQ0J7eTu"
      },
      "execution_count": 62,
      "outputs": []
    },
    {
      "cell_type": "code",
      "source": [
        "# CNN - split into train and test sets\n",
        "n = 9*365*24\n",
        "trs_cnn = df_cnn[:n, :]\n",
        "tes_cnn = df_cnn[n:, :]"
      ],
      "metadata": {
        "id": "lLdcWHtbCEMI"
      },
      "execution_count": 63,
      "outputs": []
    },
    {
      "cell_type": "code",
      "source": [
        "# CNN Data Processing - split multivariate sequence into samples\n",
        "def split_sequences(sequences, n_steps):\n",
        "\tX, y = list(), list()\n",
        "\tfor i in range(len(sequences)):\n",
        "\t\t# find the end of this pattern\n",
        "\t\tend_ix = i + n_steps\n",
        "\t\t# check if we are beyond the dataset\n",
        "\t\tif end_ix > len(sequences):\n",
        "\t\t\tbreak\n",
        "\t\t# gather input and output parts of the pattern\n",
        "\t\tseq_x, seq_y = sequences[i:end_ix, :-1], sequences[end_ix-1, -1]\n",
        "\t\tX.append(seq_x)\n",
        "\t\ty.append(seq_y)\n",
        "\treturn array(X), array(y)\n",
        "\n",
        "# choose a number of time steps\n",
        "n_steps = 3\n",
        "# convert training set into input/output\n",
        "trs_cnn_X, trs_cnn_y = split_sequences(trs_cnn, n_steps)\n",
        "print(trs_cnn_X.shape, trs_cnn_y.shape)\n",
        "# convert testing set into input/output\n",
        "tes_cnn_X, tes_cnn_y = split_sequences(tes_cnn, n_steps)\n",
        "print(tes_cnn_X.shape, tes_cnn_y.shape)\n",
        "\n",
        "# define number of feature variables\n",
        "n_features = trs_cnn_X.shape[2]"
      ],
      "metadata": {
        "colab": {
          "base_uri": "https://localhost:8080/"
        },
        "id": "8LPtcEbrjkJH",
        "outputId": "ad5885c4-67cb-4b62-c43b-9f420698c735"
      },
      "execution_count": 64,
      "outputs": [
        {
          "output_type": "stream",
          "name": "stdout",
          "text": [
            "(78838, 3, 3) (78838,)\n",
            "(26311, 3, 3) (26311,)\n"
          ]
        }
      ]
    },
    {
      "cell_type": "markdown",
      "source": [
        "## Prediction"
      ],
      "metadata": {
        "id": "SerPe_Z59GSv"
      }
    },
    {
      "cell_type": "code",
      "source": [
        "# CNN Model Definition\n",
        "model_cnn = Sequential()\n",
        "model_cnn.add(Conv1D(filters=64, kernel_size=2, activation='relu', input_shape=(n_steps, n_features)))\n",
        "model_cnn.add(MaxPooling1D(pool_size=2))\n",
        "model_cnn.add(Flatten())\n",
        "model_cnn.add(Dense(50, activation='relu'))\n",
        "model_cnn.add(Dense(1))\n",
        "model_cnn.compile(optimizer='adam', loss='mse')"
      ],
      "metadata": {
        "id": "RkITF_J59QUW"
      },
      "execution_count": 65,
      "outputs": []
    },
    {
      "cell_type": "markdown",
      "source": [
        "## Evaluation"
      ],
      "metadata": {
        "id": "wlmgXfFtD08B"
      }
    },
    {
      "cell_type": "code",
      "source": [
        "# CNN Fit Model\n",
        "cnn_history = model_cnn.fit(trs_cnn_X, trs_cnn_y, validation_data=(tes_cnn_X, tes_cnn_y), epochs=100, verbose=2)\n"
      ],
      "metadata": {
        "id": "Z-bYmQN39Ran",
        "colab": {
          "base_uri": "https://localhost:8080/"
        },
        "outputId": "f271e7bd-650f-4120-f792-8a3e6bacefc8"
      },
      "execution_count": 66,
      "outputs": [
        {
          "output_type": "stream",
          "name": "stdout",
          "text": [
            "Epoch 1/100\n",
            "2464/2464 - 6s - loss: 2.0853 - val_loss: 3.9144 - 6s/epoch - 2ms/step\n",
            "Epoch 2/100\n",
            "2464/2464 - 5s - loss: 0.5728 - val_loss: 0.7071 - 5s/epoch - 2ms/step\n",
            "Epoch 3/100\n",
            "2464/2464 - 5s - loss: 0.2884 - val_loss: 0.1949 - 5s/epoch - 2ms/step\n",
            "Epoch 4/100\n",
            "2464/2464 - 5s - loss: 0.1875 - val_loss: 0.0724 - 5s/epoch - 2ms/step\n",
            "Epoch 5/100\n",
            "2464/2464 - 5s - loss: 0.0863 - val_loss: 0.0629 - 5s/epoch - 2ms/step\n",
            "Epoch 6/100\n",
            "2464/2464 - 5s - loss: 0.0849 - val_loss: 0.1297 - 5s/epoch - 2ms/step\n",
            "Epoch 7/100\n",
            "2464/2464 - 5s - loss: 0.0611 - val_loss: 0.0839 - 5s/epoch - 2ms/step\n",
            "Epoch 8/100\n",
            "2464/2464 - 5s - loss: 0.0568 - val_loss: 0.0655 - 5s/epoch - 2ms/step\n",
            "Epoch 9/100\n",
            "2464/2464 - 5s - loss: 0.0531 - val_loss: 0.0628 - 5s/epoch - 2ms/step\n",
            "Epoch 10/100\n",
            "2464/2464 - 5s - loss: 0.0524 - val_loss: 0.0620 - 5s/epoch - 2ms/step\n",
            "Epoch 11/100\n",
            "2464/2464 - 5s - loss: 0.0518 - val_loss: 0.0695 - 5s/epoch - 2ms/step\n",
            "Epoch 12/100\n",
            "2464/2464 - 7s - loss: 0.0515 - val_loss: 0.0615 - 7s/epoch - 3ms/step\n",
            "Epoch 13/100\n",
            "2464/2464 - 5s - loss: 0.0513 - val_loss: 0.0610 - 5s/epoch - 2ms/step\n",
            "Epoch 14/100\n",
            "2464/2464 - 5s - loss: 0.0509 - val_loss: 0.0638 - 5s/epoch - 2ms/step\n",
            "Epoch 15/100\n",
            "2464/2464 - 5s - loss: 0.0506 - val_loss: 0.0599 - 5s/epoch - 2ms/step\n",
            "Epoch 16/100\n",
            "2464/2464 - 5s - loss: 0.0504 - val_loss: 0.0609 - 5s/epoch - 2ms/step\n",
            "Epoch 17/100\n",
            "2464/2464 - 5s - loss: 0.0503 - val_loss: 0.0617 - 5s/epoch - 2ms/step\n",
            "Epoch 18/100\n",
            "2464/2464 - 5s - loss: 0.0504 - val_loss: 0.0593 - 5s/epoch - 2ms/step\n",
            "Epoch 19/100\n",
            "2464/2464 - 5s - loss: 0.0503 - val_loss: 0.0602 - 5s/epoch - 2ms/step\n",
            "Epoch 20/100\n",
            "2464/2464 - 5s - loss: 0.0504 - val_loss: 0.0614 - 5s/epoch - 2ms/step\n",
            "Epoch 21/100\n",
            "2464/2464 - 5s - loss: 0.0502 - val_loss: 0.0592 - 5s/epoch - 2ms/step\n",
            "Epoch 22/100\n",
            "2464/2464 - 5s - loss: 0.0504 - val_loss: 0.0603 - 5s/epoch - 2ms/step\n",
            "Epoch 23/100\n",
            "2464/2464 - 5s - loss: 0.0500 - val_loss: 0.0607 - 5s/epoch - 2ms/step\n",
            "Epoch 24/100\n",
            "2464/2464 - 5s - loss: 0.0499 - val_loss: 0.0603 - 5s/epoch - 2ms/step\n",
            "Epoch 25/100\n",
            "2464/2464 - 5s - loss: 0.0497 - val_loss: 0.0604 - 5s/epoch - 2ms/step\n",
            "Epoch 26/100\n",
            "2464/2464 - 5s - loss: 0.0498 - val_loss: 0.0600 - 5s/epoch - 2ms/step\n",
            "Epoch 27/100\n",
            "2464/2464 - 5s - loss: 0.0497 - val_loss: 0.0604 - 5s/epoch - 2ms/step\n",
            "Epoch 28/100\n",
            "2464/2464 - 5s - loss: 0.0496 - val_loss: 0.0598 - 5s/epoch - 2ms/step\n",
            "Epoch 29/100\n",
            "2464/2464 - 5s - loss: 0.0493 - val_loss: 0.0588 - 5s/epoch - 2ms/step\n",
            "Epoch 30/100\n",
            "2464/2464 - 5s - loss: 0.0494 - val_loss: 0.0595 - 5s/epoch - 2ms/step\n",
            "Epoch 31/100\n",
            "2464/2464 - 5s - loss: 0.0495 - val_loss: 0.0601 - 5s/epoch - 2ms/step\n",
            "Epoch 32/100\n",
            "2464/2464 - 5s - loss: 0.0494 - val_loss: 0.0605 - 5s/epoch - 2ms/step\n",
            "Epoch 33/100\n",
            "2464/2464 - 5s - loss: 0.0493 - val_loss: 0.0595 - 5s/epoch - 2ms/step\n",
            "Epoch 34/100\n",
            "2464/2464 - 5s - loss: 0.0492 - val_loss: 0.0604 - 5s/epoch - 2ms/step\n",
            "Epoch 35/100\n",
            "2464/2464 - 6s - loss: 0.0494 - val_loss: 0.0603 - 6s/epoch - 3ms/step\n",
            "Epoch 36/100\n",
            "2464/2464 - 5s - loss: 0.0491 - val_loss: 0.0643 - 5s/epoch - 2ms/step\n",
            "Epoch 37/100\n",
            "2464/2464 - 5s - loss: 0.0492 - val_loss: 0.0605 - 5s/epoch - 2ms/step\n",
            "Epoch 38/100\n",
            "2464/2464 - 5s - loss: 0.0492 - val_loss: 0.0600 - 5s/epoch - 2ms/step\n",
            "Epoch 39/100\n",
            "2464/2464 - 5s - loss: 0.0489 - val_loss: 0.0622 - 5s/epoch - 2ms/step\n",
            "Epoch 40/100\n",
            "2464/2464 - 5s - loss: 0.0492 - val_loss: 0.0591 - 5s/epoch - 2ms/step\n",
            "Epoch 41/100\n",
            "2464/2464 - 5s - loss: 0.0491 - val_loss: 0.0590 - 5s/epoch - 2ms/step\n",
            "Epoch 42/100\n",
            "2464/2464 - 5s - loss: 0.0490 - val_loss: 0.0599 - 5s/epoch - 2ms/step\n",
            "Epoch 43/100\n",
            "2464/2464 - 5s - loss: 0.0487 - val_loss: 0.0612 - 5s/epoch - 2ms/step\n",
            "Epoch 44/100\n",
            "2464/2464 - 5s - loss: 0.0489 - val_loss: 0.0615 - 5s/epoch - 2ms/step\n",
            "Epoch 45/100\n",
            "2464/2464 - 5s - loss: 0.0490 - val_loss: 0.0599 - 5s/epoch - 2ms/step\n",
            "Epoch 46/100\n",
            "2464/2464 - 5s - loss: 0.0489 - val_loss: 0.0601 - 5s/epoch - 2ms/step\n",
            "Epoch 47/100\n",
            "2464/2464 - 5s - loss: 0.0492 - val_loss: 0.0608 - 5s/epoch - 2ms/step\n",
            "Epoch 48/100\n",
            "2464/2464 - 5s - loss: 0.0488 - val_loss: 0.0603 - 5s/epoch - 2ms/step\n",
            "Epoch 49/100\n",
            "2464/2464 - 5s - loss: 0.0489 - val_loss: 0.0597 - 5s/epoch - 2ms/step\n",
            "Epoch 50/100\n",
            "2464/2464 - 5s - loss: 0.0489 - val_loss: 0.0592 - 5s/epoch - 2ms/step\n",
            "Epoch 51/100\n",
            "2464/2464 - 5s - loss: 0.0488 - val_loss: 0.0595 - 5s/epoch - 2ms/step\n",
            "Epoch 52/100\n",
            "2464/2464 - 5s - loss: 0.0488 - val_loss: 0.0595 - 5s/epoch - 2ms/step\n",
            "Epoch 53/100\n",
            "2464/2464 - 5s - loss: 0.0487 - val_loss: 0.0610 - 5s/epoch - 2ms/step\n",
            "Epoch 54/100\n",
            "2464/2464 - 5s - loss: 0.0490 - val_loss: 0.0602 - 5s/epoch - 2ms/step\n",
            "Epoch 55/100\n",
            "2464/2464 - 5s - loss: 0.0486 - val_loss: 0.0592 - 5s/epoch - 2ms/step\n",
            "Epoch 56/100\n",
            "2464/2464 - 5s - loss: 0.0490 - val_loss: 0.0601 - 5s/epoch - 2ms/step\n",
            "Epoch 57/100\n",
            "2464/2464 - 5s - loss: 0.0484 - val_loss: 0.0610 - 5s/epoch - 2ms/step\n",
            "Epoch 58/100\n",
            "2464/2464 - 6s - loss: 0.0484 - val_loss: 0.0608 - 6s/epoch - 3ms/step\n",
            "Epoch 59/100\n",
            "2464/2464 - 5s - loss: 0.0484 - val_loss: 0.0639 - 5s/epoch - 2ms/step\n",
            "Epoch 60/100\n",
            "2464/2464 - 5s - loss: 0.0490 - val_loss: 0.0595 - 5s/epoch - 2ms/step\n",
            "Epoch 61/100\n",
            "2464/2464 - 5s - loss: 0.0482 - val_loss: 0.0600 - 5s/epoch - 2ms/step\n",
            "Epoch 62/100\n",
            "2464/2464 - 5s - loss: 0.0483 - val_loss: 0.0593 - 5s/epoch - 2ms/step\n",
            "Epoch 63/100\n",
            "2464/2464 - 5s - loss: 0.0484 - val_loss: 0.0609 - 5s/epoch - 2ms/step\n",
            "Epoch 64/100\n",
            "2464/2464 - 5s - loss: 0.0482 - val_loss: 0.0591 - 5s/epoch - 2ms/step\n",
            "Epoch 65/100\n",
            "2464/2464 - 5s - loss: 0.0482 - val_loss: 0.0608 - 5s/epoch - 2ms/step\n",
            "Epoch 66/100\n",
            "2464/2464 - 5s - loss: 0.0482 - val_loss: 0.0598 - 5s/epoch - 2ms/step\n",
            "Epoch 67/100\n",
            "2464/2464 - 5s - loss: 0.0481 - val_loss: 0.0586 - 5s/epoch - 2ms/step\n",
            "Epoch 68/100\n",
            "2464/2464 - 5s - loss: 0.0483 - val_loss: 0.0603 - 5s/epoch - 2ms/step\n",
            "Epoch 69/100\n",
            "2464/2464 - 5s - loss: 0.0481 - val_loss: 0.0592 - 5s/epoch - 2ms/step\n",
            "Epoch 70/100\n",
            "2464/2464 - 5s - loss: 0.0483 - val_loss: 0.0612 - 5s/epoch - 2ms/step\n",
            "Epoch 71/100\n",
            "2464/2464 - 5s - loss: 0.0492 - val_loss: 0.0591 - 5s/epoch - 2ms/step\n",
            "Epoch 72/100\n",
            "2464/2464 - 5s - loss: 0.0478 - val_loss: 0.0594 - 5s/epoch - 2ms/step\n",
            "Epoch 73/100\n",
            "2464/2464 - 5s - loss: 0.0479 - val_loss: 0.0593 - 5s/epoch - 2ms/step\n",
            "Epoch 74/100\n",
            "2464/2464 - 5s - loss: 0.0479 - val_loss: 0.0601 - 5s/epoch - 2ms/step\n",
            "Epoch 75/100\n",
            "2464/2464 - 5s - loss: 0.0483 - val_loss: 0.0604 - 5s/epoch - 2ms/step\n",
            "Epoch 76/100\n",
            "2464/2464 - 5s - loss: 0.0477 - val_loss: 0.0612 - 5s/epoch - 2ms/step\n",
            "Epoch 77/100\n",
            "2464/2464 - 5s - loss: 0.0482 - val_loss: 0.0593 - 5s/epoch - 2ms/step\n",
            "Epoch 78/100\n",
            "2464/2464 - 5s - loss: 0.0479 - val_loss: 0.0662 - 5s/epoch - 2ms/step\n",
            "Epoch 79/100\n",
            "2464/2464 - 5s - loss: 0.0484 - val_loss: 0.0614 - 5s/epoch - 2ms/step\n",
            "Epoch 80/100\n",
            "2464/2464 - 5s - loss: 0.0488 - val_loss: 0.0616 - 5s/epoch - 2ms/step\n",
            "Epoch 81/100\n",
            "2464/2464 - 5s - loss: 0.0485 - val_loss: 0.0600 - 5s/epoch - 2ms/step\n",
            "Epoch 82/100\n",
            "2464/2464 - 7s - loss: 0.0477 - val_loss: 0.0657 - 7s/epoch - 3ms/step\n",
            "Epoch 83/100\n",
            "2464/2464 - 5s - loss: 0.0476 - val_loss: 0.0591 - 5s/epoch - 2ms/step\n",
            "Epoch 84/100\n",
            "2464/2464 - 5s - loss: 0.0482 - val_loss: 0.0612 - 5s/epoch - 2ms/step\n",
            "Epoch 85/100\n",
            "2464/2464 - 5s - loss: 0.0478 - val_loss: 0.0591 - 5s/epoch - 2ms/step\n",
            "Epoch 86/100\n",
            "2464/2464 - 5s - loss: 0.0482 - val_loss: 0.0617 - 5s/epoch - 2ms/step\n",
            "Epoch 87/100\n",
            "2464/2464 - 5s - loss: 0.0477 - val_loss: 0.0776 - 5s/epoch - 2ms/step\n",
            "Epoch 88/100\n",
            "2464/2464 - 5s - loss: 0.0476 - val_loss: 0.0616 - 5s/epoch - 2ms/step\n",
            "Epoch 89/100\n",
            "2464/2464 - 5s - loss: 0.0479 - val_loss: 0.0604 - 5s/epoch - 2ms/step\n",
            "Epoch 90/100\n",
            "2464/2464 - 5s - loss: 0.0484 - val_loss: 0.0598 - 5s/epoch - 2ms/step\n",
            "Epoch 91/100\n",
            "2464/2464 - 5s - loss: 0.0477 - val_loss: 0.0592 - 5s/epoch - 2ms/step\n",
            "Epoch 92/100\n",
            "2464/2464 - 5s - loss: 0.0473 - val_loss: 0.0645 - 5s/epoch - 2ms/step\n",
            "Epoch 93/100\n",
            "2464/2464 - 5s - loss: 0.0474 - val_loss: 0.0645 - 5s/epoch - 2ms/step\n",
            "Epoch 94/100\n",
            "2464/2464 - 5s - loss: 0.0474 - val_loss: 0.0626 - 5s/epoch - 2ms/step\n",
            "Epoch 95/100\n",
            "2464/2464 - 5s - loss: 0.0478 - val_loss: 0.0715 - 5s/epoch - 2ms/step\n",
            "Epoch 96/100\n",
            "2464/2464 - 5s - loss: 0.0481 - val_loss: 0.0594 - 5s/epoch - 2ms/step\n",
            "Epoch 97/100\n",
            "2464/2464 - 5s - loss: 0.0475 - val_loss: 0.0588 - 5s/epoch - 2ms/step\n",
            "Epoch 98/100\n",
            "2464/2464 - 5s - loss: 0.0476 - val_loss: 0.0587 - 5s/epoch - 2ms/step\n",
            "Epoch 99/100\n",
            "2464/2464 - 5s - loss: 0.0475 - val_loss: 0.0604 - 5s/epoch - 2ms/step\n",
            "Epoch 100/100\n",
            "2464/2464 - 5s - loss: 0.0473 - val_loss: 0.0604 - 5s/epoch - 2ms/step\n"
          ]
        }
      ]
    },
    {
      "cell_type": "code",
      "source": [
        "# CNN Prediction\n",
        "trs_cnn_pred = model_cnn.predict(trs_cnn_X)\n",
        "tes_cnn_pred = model_cnn.predict(tes_cnn_X)\n",
        "# print('Train rmse:', np.sqrt(mean_squared_error(trs_cnn_y, trs_cnn_pred)))\n",
        "# print('Validation rmse:', np.sqrt(mean_squared_error(tes_cnn_y, tes_cnn_pred)))\n"
      ],
      "metadata": {
        "id": "q-IX_jExZUYk"
      },
      "execution_count": 67,
      "outputs": []
    },
    {
      "cell_type": "code",
      "source": [
        "trs_cnn_pred = trs_cnn_pred.reshape(-1,1)\n",
        "trs_cnn_y = trs_cnn_y.reshape(-1,1)\n",
        "tes_cnn_pred = tes_cnn_pred.reshape(-1,1)\n",
        "tes_cnn_y = tes_cnn_y.reshape(-1,1)"
      ],
      "metadata": {
        "id": "ABA8NEG9h3of"
      },
      "execution_count": 68,
      "outputs": []
    },
    {
      "cell_type": "code",
      "source": [
        "# calculate NSE\n",
        "nse_trs_cnn = 1-(np.sum((trs_cnn_pred-trs_cnn_y)**2)/np.sum((trs_cnn_y-np.mean(trs_cnn_y))**2))\n",
        "nse_tes_cnn = 1-(np.sum((tes_cnn_pred-tes_cnn_y)**2)/np.sum((tes_cnn_y-np.mean(tes_cnn_y))**2))\n",
        "print('Train NSE: %.3f' % nse_trs_cnn)\n",
        "print('Test NSE: %.3f' % nse_tes_cnn)\n",
        "\n",
        "# calculate RMSE\n",
        "rmse_trs_cnn = np.sqrt(mean_squared_error(trs_cnn_y, trs_cnn_pred))\n",
        "rmse_tes_cnn = np.sqrt(mean_squared_error(tes_cnn_y, tes_cnn_pred))\n",
        "print('Train RMSE: %.3f' % rmse_trs_cnn)\n",
        "print('Test RMSE: %.3f' % rmse_tes_cnn)"
      ],
      "metadata": {
        "colab": {
          "base_uri": "https://localhost:8080/"
        },
        "id": "y3G4rEjBbpTk",
        "outputId": "d6e02c75-5cc8-4f69-8f5d-486ac9080a01"
      },
      "execution_count": 69,
      "outputs": [
        {
          "output_type": "stream",
          "name": "stdout",
          "text": [
            "Train NSE: 0.184\n",
            "Test NSE: 0.176\n",
            "Train RMSE: 0.218\n",
            "Test RMSE: 0.246\n"
          ]
        }
      ]
    },
    {
      "cell_type": "markdown",
      "source": [
        "# Archive"
      ],
      "metadata": {
        "id": "6w2EwQydjZZm"
      }
    },
    {
      "cell_type": "code",
      "source": [
        "# # NSE Calculation and Plot\n",
        "\n",
        "# o = np.array([1,2,3,4,5,6,7,8,9,10,2,3,4,5,6,7])\n",
        "# m = np.array([1.1,2.2,3.2,4,5,6.1,7.2,8.5,8,10.5,1,2,4,5,6,7])\n",
        "# # nse = 1-(np.sum((p-t)**2)/np.sum((t-np.mean(t))**2))\n",
        "# # print('Test NSE: %.3f' % nse)\n",
        "# # plot\n",
        "\n",
        "\n",
        "# fig= plt.figure(figsize=(14, 4))\n",
        "# plt.title('Insert Title')\n",
        "# plt.plot(o, label='observed', color='#00688b', linewidth=0.5)\n",
        "# plt.plot(m, label='model', color='#ee7600', linewidth=0.5)\n",
        "# plt.plot([], [], ' ', label='NSE = %.3f' % nse)\n",
        "# plt.ylabel('y label')\n",
        "# plt.ylabel('x label')\n",
        "# plt.legend()\n",
        "# plt.show()\n",
        "\n"
      ],
      "metadata": {
        "id": "5HHU6Evxk47G"
      },
      "execution_count": 70,
      "outputs": []
    },
    {
      "cell_type": "code",
      "source": [
        "# # Data Processing for Multivariable CNN - Small Sample Size for Testing\n",
        "# df_cnn = df_cnn.iloc[:2500, :]\n",
        "# df_cnn = df_cnn.set_index('ds')\n",
        "# df_cnn = df_cnn[['temp', 'rad', 'preci', 'y']]\n",
        "# df_cnn = df_cnn.to_numpy()"
      ],
      "metadata": {
        "id": "B-4_FQyuf73l"
      },
      "execution_count": 71,
      "outputs": []
    }
  ]
}