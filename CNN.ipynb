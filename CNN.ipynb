{
  "nbformat": 4,
  "nbformat_minor": 0,
  "metadata": {
    "colab": {
      "name": "CNN.ipynb",
      "provenance": [],
      "collapsed_sections": [],
      "mount_file_id": "1CzE7HMqD3CuS5i6fxmbImmUauRDkYpyV",
      "authorship_tag": "ABX9TyOGj7tGM7RLxCXvqpI3n+xB",
      "include_colab_link": true
    },
    "kernelspec": {
      "name": "python3",
      "display_name": "Python 3"
    },
    "language_info": {
      "name": "python"
    },
    "gpuClass": "standard"
  },
  "cells": [
    {
      "cell_type": "markdown",
      "metadata": {
        "id": "view-in-github",
        "colab_type": "text"
      },
      "source": [
        "<a href=\"https://colab.research.google.com/github/hepuliu/Masters_Thesis/blob/main/CNN.ipynb\" target=\"_parent\"><img src=\"https://colab.research.google.com/assets/colab-badge.svg\" alt=\"Open In Colab\"/></a>"
      ]
    },
    {
      "cell_type": "markdown",
      "source": [
        "## Master Thesis Simulation - CNN Model\n",
        "\n",
        "*Flood Prevention with Machine Learining - Hepu Liu*\n",
        "\n",
        "---\n",
        "\n",
        "**This Notebook is Dedicated to the CNN Model Simulations**"
      ],
      "metadata": {
        "id": "SK9SqJkgYflY"
      }
    },
    {
      "cell_type": "markdown",
      "source": [
        "### Overall Project Simulation Steps\n",
        "1. Process discharge data from Waldangelbach Station\n",
        "\n",
        "2. Process precipitation data from Baiertal  Station\n",
        "\n",
        "3. Build Prediction Models\n",
        "\n",
        "4. Evaluation of NSE\n",
        "\n",
        "### Variable Naming Conventions\n",
        "\n",
        "- Weather Stations Naming: ('p' for precipitation, 'd' for discharge, 'a' for different stations, 'r' for result)\n",
        "\n",
        "  - da: Waldangelbach Station\n",
        "  - pa: Baiertal Station\n",
        "  - pr: combined/resulting precipitation\n",
        "  - dr: predicted/resulting discharge\n",
        "\n",
        "- Variable Naming Coventions: \n",
        "  - df: data frame\n",
        "  - trs: training set\n",
        "  - tes: testing set\n",
        "  - lstm: LSTM\n",
        "  - cnn: CNN\n",
        "  - lstmss: LSTM-seq2sqe\n"
      ],
      "metadata": {
        "id": "qglbOjh3bvqI"
      }
    },
    {
      "cell_type": "markdown",
      "source": [
        "## Importing Libraries"
      ],
      "metadata": {
        "id": "KIiBvKSSYZGo"
      }
    },
    {
      "cell_type": "code",
      "source": [
        "# importing libraries\n",
        "import csv\n",
        "import numpy as np\n",
        "import matplotlib.pyplot as plt\n",
        "import pandas as pd\n",
        "from sklearn.preprocessing import MinMaxScaler\n",
        "from pandas import DataFrame\n",
        "from pandas import concat\n",
        "from math import sqrt\n",
        "from numpy import concatenate\n",
        "from numpy import loadtxt\n",
        "from numpy import array\n",
        "from pandas import DataFrame\n",
        "from pandas import concat\n",
        "from sklearn.preprocessing import LabelEncoder\n",
        "from sklearn.metrics import mean_squared_error\n",
        "from keras.models import Sequential\n",
        "from keras.layers import Dense, Dropout\n",
        "from keras.layers import LSTM\n",
        "from keras.layers import Flatten\n",
        "from keras.layers.convolutional import Conv1D\n",
        "from keras.layers.convolutional import MaxPooling1D\n",
        "from sklearn.model_selection import train_test_split\n",
        "from google.colab import drive\n",
        "drive.mount"
      ],
      "metadata": {
        "colab": {
          "base_uri": "https://localhost:8080/"
        },
        "id": "qZOjIExEcfol",
        "outputId": "7c582e78-451e-440f-f9b2-f706fb306f47"
      },
      "execution_count": 84,
      "outputs": [
        {
          "output_type": "execute_result",
          "data": {
            "text/plain": [
              "<function google.colab.drive.mount>"
            ]
          },
          "metadata": {},
          "execution_count": 84
        }
      ]
    },
    {
      "cell_type": "markdown",
      "source": [
        "## Importing Datasets"
      ],
      "metadata": {
        "id": "aaJEQP7LYbTH"
      }
    },
    {
      "cell_type": "code",
      "source": [
        "# import datafram for CNN\n",
        "df_cnn = pd.read_csv('/content/drive/MyDrive/thesis/dataset/cleaned_df/df_cnn.csv')\n",
        "df_cnn.head()"
      ],
      "metadata": {
        "id": "YKCS3Ce1epsl",
        "colab": {
          "base_uri": "https://localhost:8080/",
          "height": 206
        },
        "outputId": "e4c8da63-9817-491c-ee32-08c231f2b8e1"
      },
      "execution_count": 85,
      "outputs": [
        {
          "output_type": "execute_result",
          "data": {
            "text/plain": [
              "                    ds      y   temp  rad  preci\n",
              "0  2007-01-01 00:00:00  0.226  10.00  0.0    2.6\n",
              "1  2007-01-01 01:00:00  0.248  10.58  0.0    0.8\n",
              "2  2007-01-01 02:00:00  0.248  11.22  0.0    0.2\n",
              "3  2007-01-01 03:00:00  0.320  11.42  0.0    0.6\n",
              "4  2007-01-01 04:00:00  0.346  11.58  0.0    0.0"
            ],
            "text/html": [
              "\n",
              "  <div id=\"df-2aaed1b4-7a94-459e-9201-7f2dc96b9929\">\n",
              "    <div class=\"colab-df-container\">\n",
              "      <div>\n",
              "<style scoped>\n",
              "    .dataframe tbody tr th:only-of-type {\n",
              "        vertical-align: middle;\n",
              "    }\n",
              "\n",
              "    .dataframe tbody tr th {\n",
              "        vertical-align: top;\n",
              "    }\n",
              "\n",
              "    .dataframe thead th {\n",
              "        text-align: right;\n",
              "    }\n",
              "</style>\n",
              "<table border=\"1\" class=\"dataframe\">\n",
              "  <thead>\n",
              "    <tr style=\"text-align: right;\">\n",
              "      <th></th>\n",
              "      <th>ds</th>\n",
              "      <th>y</th>\n",
              "      <th>temp</th>\n",
              "      <th>rad</th>\n",
              "      <th>preci</th>\n",
              "    </tr>\n",
              "  </thead>\n",
              "  <tbody>\n",
              "    <tr>\n",
              "      <th>0</th>\n",
              "      <td>2007-01-01 00:00:00</td>\n",
              "      <td>0.226</td>\n",
              "      <td>10.00</td>\n",
              "      <td>0.0</td>\n",
              "      <td>2.6</td>\n",
              "    </tr>\n",
              "    <tr>\n",
              "      <th>1</th>\n",
              "      <td>2007-01-01 01:00:00</td>\n",
              "      <td>0.248</td>\n",
              "      <td>10.58</td>\n",
              "      <td>0.0</td>\n",
              "      <td>0.8</td>\n",
              "    </tr>\n",
              "    <tr>\n",
              "      <th>2</th>\n",
              "      <td>2007-01-01 02:00:00</td>\n",
              "      <td>0.248</td>\n",
              "      <td>11.22</td>\n",
              "      <td>0.0</td>\n",
              "      <td>0.2</td>\n",
              "    </tr>\n",
              "    <tr>\n",
              "      <th>3</th>\n",
              "      <td>2007-01-01 03:00:00</td>\n",
              "      <td>0.320</td>\n",
              "      <td>11.42</td>\n",
              "      <td>0.0</td>\n",
              "      <td>0.6</td>\n",
              "    </tr>\n",
              "    <tr>\n",
              "      <th>4</th>\n",
              "      <td>2007-01-01 04:00:00</td>\n",
              "      <td>0.346</td>\n",
              "      <td>11.58</td>\n",
              "      <td>0.0</td>\n",
              "      <td>0.0</td>\n",
              "    </tr>\n",
              "  </tbody>\n",
              "</table>\n",
              "</div>\n",
              "      <button class=\"colab-df-convert\" onclick=\"convertToInteractive('df-2aaed1b4-7a94-459e-9201-7f2dc96b9929')\"\n",
              "              title=\"Convert this dataframe to an interactive table.\"\n",
              "              style=\"display:none;\">\n",
              "        \n",
              "  <svg xmlns=\"http://www.w3.org/2000/svg\" height=\"24px\"viewBox=\"0 0 24 24\"\n",
              "       width=\"24px\">\n",
              "    <path d=\"M0 0h24v24H0V0z\" fill=\"none\"/>\n",
              "    <path d=\"M18.56 5.44l.94 2.06.94-2.06 2.06-.94-2.06-.94-.94-2.06-.94 2.06-2.06.94zm-11 1L8.5 8.5l.94-2.06 2.06-.94-2.06-.94L8.5 2.5l-.94 2.06-2.06.94zm10 10l.94 2.06.94-2.06 2.06-.94-2.06-.94-.94-2.06-.94 2.06-2.06.94z\"/><path d=\"M17.41 7.96l-1.37-1.37c-.4-.4-.92-.59-1.43-.59-.52 0-1.04.2-1.43.59L10.3 9.45l-7.72 7.72c-.78.78-.78 2.05 0 2.83L4 21.41c.39.39.9.59 1.41.59.51 0 1.02-.2 1.41-.59l7.78-7.78 2.81-2.81c.8-.78.8-2.07 0-2.86zM5.41 20L4 18.59l7.72-7.72 1.47 1.35L5.41 20z\"/>\n",
              "  </svg>\n",
              "      </button>\n",
              "      \n",
              "  <style>\n",
              "    .colab-df-container {\n",
              "      display:flex;\n",
              "      flex-wrap:wrap;\n",
              "      gap: 12px;\n",
              "    }\n",
              "\n",
              "    .colab-df-convert {\n",
              "      background-color: #E8F0FE;\n",
              "      border: none;\n",
              "      border-radius: 50%;\n",
              "      cursor: pointer;\n",
              "      display: none;\n",
              "      fill: #1967D2;\n",
              "      height: 32px;\n",
              "      padding: 0 0 0 0;\n",
              "      width: 32px;\n",
              "    }\n",
              "\n",
              "    .colab-df-convert:hover {\n",
              "      background-color: #E2EBFA;\n",
              "      box-shadow: 0px 1px 2px rgba(60, 64, 67, 0.3), 0px 1px 3px 1px rgba(60, 64, 67, 0.15);\n",
              "      fill: #174EA6;\n",
              "    }\n",
              "\n",
              "    [theme=dark] .colab-df-convert {\n",
              "      background-color: #3B4455;\n",
              "      fill: #D2E3FC;\n",
              "    }\n",
              "\n",
              "    [theme=dark] .colab-df-convert:hover {\n",
              "      background-color: #434B5C;\n",
              "      box-shadow: 0px 1px 3px 1px rgba(0, 0, 0, 0.15);\n",
              "      filter: drop-shadow(0px 1px 2px rgba(0, 0, 0, 0.3));\n",
              "      fill: #FFFFFF;\n",
              "    }\n",
              "  </style>\n",
              "\n",
              "      <script>\n",
              "        const buttonEl =\n",
              "          document.querySelector('#df-2aaed1b4-7a94-459e-9201-7f2dc96b9929 button.colab-df-convert');\n",
              "        buttonEl.style.display =\n",
              "          google.colab.kernel.accessAllowed ? 'block' : 'none';\n",
              "\n",
              "        async function convertToInteractive(key) {\n",
              "          const element = document.querySelector('#df-2aaed1b4-7a94-459e-9201-7f2dc96b9929');\n",
              "          const dataTable =\n",
              "            await google.colab.kernel.invokeFunction('convertToInteractive',\n",
              "                                                     [key], {});\n",
              "          if (!dataTable) return;\n",
              "\n",
              "          const docLinkHtml = 'Like what you see? Visit the ' +\n",
              "            '<a target=\"_blank\" href=https://colab.research.google.com/notebooks/data_table.ipynb>data table notebook</a>'\n",
              "            + ' to learn more about interactive tables.';\n",
              "          element.innerHTML = '';\n",
              "          dataTable['output_type'] = 'display_data';\n",
              "          await google.colab.output.renderOutput(dataTable, element);\n",
              "          const docLink = document.createElement('div');\n",
              "          docLink.innerHTML = docLinkHtml;\n",
              "          element.appendChild(docLink);\n",
              "        }\n",
              "      </script>\n",
              "    </div>\n",
              "  </div>\n",
              "  "
            ]
          },
          "metadata": {},
          "execution_count": 85
        }
      ]
    },
    {
      "cell_type": "markdown",
      "source": [
        "## Data Processing"
      ],
      "metadata": {
        "id": "1fFHbl2kREy3"
      }
    },
    {
      "cell_type": "code",
      "source": [
        "# Data Processing for Multivariable CNN - Small Sample Size for Testing\n",
        "df_cnn = df_cnn.set_index('ds')\n",
        "df_cnn = df_cnn[['temp', 'rad', 'preci', 'y']]\n",
        "df_cnn = df_cnn.to_numpy()"
      ],
      "metadata": {
        "id": "dwgQbQ0J7eTu"
      },
      "execution_count": 86,
      "outputs": []
    },
    {
      "cell_type": "code",
      "source": [
        "# CNN - split into train and test sets\n",
        "n = 9*365*24\n",
        "trs_cnn = df_cnn[:n, :]\n",
        "tes_cnn = df_cnn[n:, :]"
      ],
      "metadata": {
        "id": "lLdcWHtbCEMI"
      },
      "execution_count": 87,
      "outputs": []
    },
    {
      "cell_type": "code",
      "source": [
        "# CNN Data Processing - split multivariate sequence into samples\n",
        "def split_sequences(sequences, n_steps):\n",
        "\tX, y = list(), list()\n",
        "\tfor i in range(len(sequences)):\n",
        "\t\t# find the end of this pattern\n",
        "\t\tend_ix = i + n_steps\n",
        "\t\t# check if we are beyond the dataset\n",
        "\t\tif end_ix > len(sequences):\n",
        "\t\t\tbreak\n",
        "\t\t# gather input and output parts of the pattern\n",
        "\t\tseq_x, seq_y = sequences[i:end_ix, :-1], sequences[end_ix-1, -1]\n",
        "\t\tX.append(seq_x)\n",
        "\t\ty.append(seq_y)\n",
        "\treturn array(X), array(y)\n",
        "\n",
        "# choose a number of time steps\n",
        "n_steps = 50\n",
        "# convert training set into input/output\n",
        "trs_cnn_X, trs_cnn_y = split_sequences(trs_cnn, n_steps)\n",
        "print(trs_cnn_X.shape, trs_cnn_y.shape)\n",
        "# convert testing set into input/output\n",
        "tes_cnn_X, tes_cnn_y = split_sequences(tes_cnn, n_steps)\n",
        "print(tes_cnn_X.shape, tes_cnn_y.shape)\n",
        "\n",
        "# define number of feature variables\n",
        "n_features = trs_cnn_X.shape[2]"
      ],
      "metadata": {
        "colab": {
          "base_uri": "https://localhost:8080/"
        },
        "id": "8LPtcEbrjkJH",
        "outputId": "6e1bb5b1-9d0d-4682-ec93-22911dee0259"
      },
      "execution_count": 88,
      "outputs": [
        {
          "output_type": "stream",
          "name": "stdout",
          "text": [
            "(78791, 50, 3) (78791,)\n",
            "(26264, 50, 3) (26264,)\n"
          ]
        }
      ]
    },
    {
      "cell_type": "markdown",
      "source": [
        "## Prediction"
      ],
      "metadata": {
        "id": "SerPe_Z59GSv"
      }
    },
    {
      "cell_type": "code",
      "source": [
        "# CNN Model Definition\n",
        "model_cnn = Sequential()\n",
        "model_cnn.add(Conv1D(filters=64, kernel_size=2, activation='relu', input_shape=(n_steps, n_features)))\n",
        "model_cnn.add(MaxPooling1D(pool_size=3))\n",
        "model_cnn.add(Flatten())\n",
        "model_cnn.add(Dense(50, activation='relu'))\n",
        "model_cnn.add(Dense(1))\n",
        "model_cnn.compile(optimizer='adam', loss='mse')"
      ],
      "metadata": {
        "id": "RkITF_J59QUW"
      },
      "execution_count": 89,
      "outputs": []
    },
    {
      "cell_type": "markdown",
      "source": [
        "## Evaluation"
      ],
      "metadata": {
        "id": "wlmgXfFtD08B"
      }
    },
    {
      "cell_type": "code",
      "source": [
        "# CNN Fit Model\n",
        "cnn_history = model_cnn.fit(trs_cnn_X, trs_cnn_y, validation_data=(tes_cnn_X, tes_cnn_y), epochs=100, verbose=2)\n"
      ],
      "metadata": {
        "id": "Z-bYmQN39Ran",
        "colab": {
          "base_uri": "https://localhost:8080/"
        },
        "outputId": "af9a8393-89d6-4821-e45e-f9e9cc1318c7"
      },
      "execution_count": 90,
      "outputs": [
        {
          "output_type": "stream",
          "name": "stdout",
          "text": [
            "Epoch 1/100\n",
            "2463/2463 - 14s - loss: 3.6279 - val_loss: 0.3427 - 14s/epoch - 6ms/step\n",
            "Epoch 2/100\n",
            "2463/2463 - 17s - loss: 0.2364 - val_loss: 0.2428 - 17s/epoch - 7ms/step\n",
            "Epoch 3/100\n",
            "2463/2463 - 16s - loss: 0.0897 - val_loss: 0.0813 - 16s/epoch - 7ms/step\n",
            "Epoch 4/100\n",
            "2463/2463 - 12s - loss: 0.0494 - val_loss: 0.0427 - 12s/epoch - 5ms/step\n",
            "Epoch 5/100\n",
            "2463/2463 - 12s - loss: 0.0332 - val_loss: 0.0347 - 12s/epoch - 5ms/step\n",
            "Epoch 6/100\n",
            "2463/2463 - 12s - loss: 0.0271 - val_loss: 0.0345 - 12s/epoch - 5ms/step\n",
            "Epoch 7/100\n",
            "2463/2463 - 11s - loss: 0.0248 - val_loss: 0.0309 - 11s/epoch - 5ms/step\n",
            "Epoch 8/100\n",
            "2463/2463 - 12s - loss: 0.0234 - val_loss: 0.0354 - 12s/epoch - 5ms/step\n",
            "Epoch 9/100\n",
            "2463/2463 - 13s - loss: 0.0215 - val_loss: 0.0374 - 13s/epoch - 5ms/step\n",
            "Epoch 10/100\n",
            "2463/2463 - 12s - loss: 0.0211 - val_loss: 0.0365 - 12s/epoch - 5ms/step\n",
            "Epoch 11/100\n",
            "2463/2463 - 13s - loss: 0.0193 - val_loss: 0.0372 - 13s/epoch - 5ms/step\n",
            "Epoch 12/100\n",
            "2463/2463 - 11s - loss: 0.0189 - val_loss: 0.0374 - 11s/epoch - 5ms/step\n",
            "Epoch 13/100\n",
            "2463/2463 - 12s - loss: 0.0182 - val_loss: 0.0355 - 12s/epoch - 5ms/step\n",
            "Epoch 14/100\n",
            "2463/2463 - 12s - loss: 0.0178 - val_loss: 0.0363 - 12s/epoch - 5ms/step\n",
            "Epoch 15/100\n",
            "2463/2463 - 12s - loss: 0.0172 - val_loss: 0.0376 - 12s/epoch - 5ms/step\n",
            "Epoch 16/100\n",
            "2463/2463 - 12s - loss: 0.0167 - val_loss: 0.0334 - 12s/epoch - 5ms/step\n",
            "Epoch 17/100\n",
            "2463/2463 - 12s - loss: 0.0162 - val_loss: 0.0375 - 12s/epoch - 5ms/step\n",
            "Epoch 18/100\n",
            "2463/2463 - 14s - loss: 0.0165 - val_loss: 0.0394 - 14s/epoch - 6ms/step\n",
            "Epoch 19/100\n",
            "2463/2463 - 12s - loss: 0.0155 - val_loss: 0.0376 - 12s/epoch - 5ms/step\n",
            "Epoch 20/100\n",
            "2463/2463 - 13s - loss: 0.0157 - val_loss: 0.0370 - 13s/epoch - 5ms/step\n",
            "Epoch 21/100\n",
            "2463/2463 - 13s - loss: 0.0159 - val_loss: 0.0372 - 13s/epoch - 5ms/step\n",
            "Epoch 22/100\n",
            "2463/2463 - 12s - loss: 0.0151 - val_loss: 0.0364 - 12s/epoch - 5ms/step\n",
            "Epoch 23/100\n",
            "2463/2463 - 12s - loss: 0.0150 - val_loss: 0.0369 - 12s/epoch - 5ms/step\n",
            "Epoch 24/100\n",
            "2463/2463 - 12s - loss: 0.0144 - val_loss: 0.0348 - 12s/epoch - 5ms/step\n",
            "Epoch 25/100\n",
            "2463/2463 - 13s - loss: 0.0148 - val_loss: 0.0397 - 13s/epoch - 5ms/step\n",
            "Epoch 26/100\n",
            "2463/2463 - 12s - loss: 0.0142 - val_loss: 0.0351 - 12s/epoch - 5ms/step\n",
            "Epoch 27/100\n",
            "2463/2463 - 13s - loss: 0.0146 - val_loss: 0.0371 - 13s/epoch - 5ms/step\n",
            "Epoch 28/100\n",
            "2463/2463 - 12s - loss: 0.0138 - val_loss: 0.0355 - 12s/epoch - 5ms/step\n",
            "Epoch 29/100\n",
            "2463/2463 - 12s - loss: 0.0138 - val_loss: 0.0347 - 12s/epoch - 5ms/step\n",
            "Epoch 30/100\n",
            "2463/2463 - 11s - loss: 0.0135 - val_loss: 0.0355 - 11s/epoch - 5ms/step\n",
            "Epoch 31/100\n",
            "2463/2463 - 12s - loss: 0.0139 - val_loss: 0.0363 - 12s/epoch - 5ms/step\n",
            "Epoch 32/100\n",
            "2463/2463 - 12s - loss: 0.0134 - val_loss: 0.0398 - 12s/epoch - 5ms/step\n",
            "Epoch 33/100\n",
            "2463/2463 - 11s - loss: 0.0136 - val_loss: 0.0330 - 11s/epoch - 5ms/step\n",
            "Epoch 34/100\n",
            "2463/2463 - 11s - loss: 0.0136 - val_loss: 0.0365 - 11s/epoch - 5ms/step\n",
            "Epoch 35/100\n",
            "2463/2463 - 12s - loss: 0.0133 - val_loss: 0.0364 - 12s/epoch - 5ms/step\n",
            "Epoch 36/100\n",
            "2463/2463 - 14s - loss: 0.0130 - val_loss: 0.0378 - 14s/epoch - 6ms/step\n",
            "Epoch 37/100\n",
            "2463/2463 - 11s - loss: 0.0134 - val_loss: 0.0352 - 11s/epoch - 5ms/step\n",
            "Epoch 38/100\n",
            "2463/2463 - 12s - loss: 0.0135 - val_loss: 0.0359 - 12s/epoch - 5ms/step\n",
            "Epoch 39/100\n",
            "2463/2463 - 12s - loss: 0.0125 - val_loss: 0.0350 - 12s/epoch - 5ms/step\n",
            "Epoch 40/100\n",
            "2463/2463 - 13s - loss: 0.0129 - val_loss: 0.0372 - 13s/epoch - 5ms/step\n",
            "Epoch 41/100\n",
            "2463/2463 - 12s - loss: 0.0131 - val_loss: 0.0348 - 12s/epoch - 5ms/step\n",
            "Epoch 42/100\n",
            "2463/2463 - 11s - loss: 0.0123 - val_loss: 0.0367 - 11s/epoch - 5ms/step\n",
            "Epoch 43/100\n",
            "2463/2463 - 11s - loss: 0.0128 - val_loss: 0.0356 - 11s/epoch - 5ms/step\n",
            "Epoch 44/100\n",
            "2463/2463 - 12s - loss: 0.0122 - val_loss: 0.0347 - 12s/epoch - 5ms/step\n",
            "Epoch 45/100\n",
            "2463/2463 - 12s - loss: 0.0125 - val_loss: 0.0350 - 12s/epoch - 5ms/step\n",
            "Epoch 46/100\n",
            "2463/2463 - 11s - loss: 0.0123 - val_loss: 0.0363 - 11s/epoch - 5ms/step\n",
            "Epoch 47/100\n",
            "2463/2463 - 12s - loss: 0.0120 - val_loss: 0.0370 - 12s/epoch - 5ms/step\n",
            "Epoch 48/100\n",
            "2463/2463 - 12s - loss: 0.0125 - val_loss: 0.0361 - 12s/epoch - 5ms/step\n",
            "Epoch 49/100\n",
            "2463/2463 - 12s - loss: 0.0129 - val_loss: 0.0347 - 12s/epoch - 5ms/step\n",
            "Epoch 50/100\n",
            "2463/2463 - 12s - loss: 0.0123 - val_loss: 0.0363 - 12s/epoch - 5ms/step\n",
            "Epoch 51/100\n",
            "2463/2463 - 11s - loss: 0.0119 - val_loss: 0.0364 - 11s/epoch - 5ms/step\n",
            "Epoch 52/100\n",
            "2463/2463 - 12s - loss: 0.0119 - val_loss: 0.0345 - 12s/epoch - 5ms/step\n",
            "Epoch 53/100\n",
            "2463/2463 - 15s - loss: 0.0119 - val_loss: 0.0370 - 15s/epoch - 6ms/step\n",
            "Epoch 54/100\n",
            "2463/2463 - 12s - loss: 0.0123 - val_loss: 0.0359 - 12s/epoch - 5ms/step\n",
            "Epoch 55/100\n",
            "2463/2463 - 12s - loss: 0.0116 - val_loss: 0.0347 - 12s/epoch - 5ms/step\n",
            "Epoch 56/100\n",
            "2463/2463 - 11s - loss: 0.0117 - val_loss: 0.0349 - 11s/epoch - 5ms/step\n",
            "Epoch 57/100\n",
            "2463/2463 - 11s - loss: 0.0116 - val_loss: 0.0367 - 11s/epoch - 5ms/step\n",
            "Epoch 58/100\n",
            "2463/2463 - 12s - loss: 0.0118 - val_loss: 0.0379 - 12s/epoch - 5ms/step\n",
            "Epoch 59/100\n",
            "2463/2463 - 12s - loss: 0.0117 - val_loss: 0.0362 - 12s/epoch - 5ms/step\n",
            "Epoch 60/100\n",
            "2463/2463 - 11s - loss: 0.0121 - val_loss: 0.0357 - 11s/epoch - 4ms/step\n",
            "Epoch 61/100\n",
            "2463/2463 - 12s - loss: 0.0110 - val_loss: 0.0358 - 12s/epoch - 5ms/step\n",
            "Epoch 62/100\n",
            "2463/2463 - 14s - loss: 0.0115 - val_loss: 0.0376 - 14s/epoch - 6ms/step\n",
            "Epoch 63/100\n",
            "2463/2463 - 12s - loss: 0.0115 - val_loss: 0.0346 - 12s/epoch - 5ms/step\n",
            "Epoch 64/100\n",
            "2463/2463 - 12s - loss: 0.0116 - val_loss: 0.0363 - 12s/epoch - 5ms/step\n",
            "Epoch 65/100\n",
            "2463/2463 - 12s - loss: 0.0113 - val_loss: 0.0342 - 12s/epoch - 5ms/step\n",
            "Epoch 66/100\n",
            "2463/2463 - 12s - loss: 0.0114 - val_loss: 0.0352 - 12s/epoch - 5ms/step\n",
            "Epoch 67/100\n",
            "2463/2463 - 12s - loss: 0.0112 - val_loss: 0.0375 - 12s/epoch - 5ms/step\n",
            "Epoch 68/100\n",
            "2463/2463 - 11s - loss: 0.0112 - val_loss: 0.0369 - 11s/epoch - 5ms/step\n",
            "Epoch 69/100\n",
            "2463/2463 - 12s - loss: 0.0112 - val_loss: 0.0356 - 12s/epoch - 5ms/step\n",
            "Epoch 70/100\n",
            "2463/2463 - 11s - loss: 0.0111 - val_loss: 0.0356 - 11s/epoch - 5ms/step\n",
            "Epoch 71/100\n",
            "2463/2463 - 13s - loss: 0.0113 - val_loss: 0.0368 - 13s/epoch - 5ms/step\n",
            "Epoch 72/100\n",
            "2463/2463 - 11s - loss: 0.0110 - val_loss: 0.0365 - 11s/epoch - 5ms/step\n",
            "Epoch 73/100\n",
            "2463/2463 - 12s - loss: 0.0111 - val_loss: 0.0371 - 12s/epoch - 5ms/step\n",
            "Epoch 74/100\n",
            "2463/2463 - 12s - loss: 0.0111 - val_loss: 0.0381 - 12s/epoch - 5ms/step\n",
            "Epoch 75/100\n",
            "2463/2463 - 11s - loss: 0.0107 - val_loss: 0.0352 - 11s/epoch - 5ms/step\n",
            "Epoch 76/100\n",
            "2463/2463 - 12s - loss: 0.0111 - val_loss: 0.0379 - 12s/epoch - 5ms/step\n",
            "Epoch 77/100\n",
            "2463/2463 - 11s - loss: 0.0110 - val_loss: 0.0376 - 11s/epoch - 4ms/step\n",
            "Epoch 78/100\n",
            "2463/2463 - 12s - loss: 0.0109 - val_loss: 0.0384 - 12s/epoch - 5ms/step\n",
            "Epoch 79/100\n",
            "2463/2463 - 12s - loss: 0.0107 - val_loss: 0.0363 - 12s/epoch - 5ms/step\n",
            "Epoch 80/100\n",
            "2463/2463 - 13s - loss: 0.0111 - val_loss: 0.0380 - 13s/epoch - 5ms/step\n",
            "Epoch 81/100\n",
            "2463/2463 - 12s - loss: 0.0109 - val_loss: 0.0359 - 12s/epoch - 5ms/step\n",
            "Epoch 82/100\n",
            "2463/2463 - 12s - loss: 0.0109 - val_loss: 0.0368 - 12s/epoch - 5ms/step\n",
            "Epoch 83/100\n",
            "2463/2463 - 11s - loss: 0.0108 - val_loss: 0.0365 - 11s/epoch - 5ms/step\n",
            "Epoch 84/100\n",
            "2463/2463 - 12s - loss: 0.0104 - val_loss: 0.0371 - 12s/epoch - 5ms/step\n",
            "Epoch 85/100\n",
            "2463/2463 - 12s - loss: 0.0111 - val_loss: 0.0365 - 12s/epoch - 5ms/step\n",
            "Epoch 86/100\n",
            "2463/2463 - 12s - loss: 0.0103 - val_loss: 0.0385 - 12s/epoch - 5ms/step\n",
            "Epoch 87/100\n",
            "2463/2463 - 11s - loss: 0.0105 - val_loss: 0.0365 - 11s/epoch - 5ms/step\n",
            "Epoch 88/100\n",
            "2463/2463 - 12s - loss: 0.0103 - val_loss: 0.0370 - 12s/epoch - 5ms/step\n",
            "Epoch 89/100\n",
            "2463/2463 - 14s - loss: 0.0108 - val_loss: 0.0376 - 14s/epoch - 6ms/step\n",
            "Epoch 90/100\n",
            "2463/2463 - 12s - loss: 0.0104 - val_loss: 0.0364 - 12s/epoch - 5ms/step\n",
            "Epoch 91/100\n",
            "2463/2463 - 11s - loss: 0.0104 - val_loss: 0.0385 - 11s/epoch - 5ms/step\n",
            "Epoch 92/100\n",
            "2463/2463 - 11s - loss: 0.0104 - val_loss: 0.0376 - 11s/epoch - 5ms/step\n",
            "Epoch 93/100\n",
            "2463/2463 - 12s - loss: 0.0105 - val_loss: 0.0378 - 12s/epoch - 5ms/step\n",
            "Epoch 94/100\n",
            "2463/2463 - 13s - loss: 0.0104 - val_loss: 0.0422 - 13s/epoch - 5ms/step\n",
            "Epoch 95/100\n",
            "2463/2463 - 12s - loss: 0.0105 - val_loss: 0.0399 - 12s/epoch - 5ms/step\n",
            "Epoch 96/100\n",
            "2463/2463 - 12s - loss: 0.0106 - val_loss: 0.0376 - 12s/epoch - 5ms/step\n",
            "Epoch 97/100\n",
            "2463/2463 - 13s - loss: 0.0101 - val_loss: 0.0375 - 13s/epoch - 5ms/step\n",
            "Epoch 98/100\n",
            "2463/2463 - 12s - loss: 0.0104 - val_loss: 0.0370 - 12s/epoch - 5ms/step\n",
            "Epoch 99/100\n",
            "2463/2463 - 13s - loss: 0.0103 - val_loss: 0.0400 - 13s/epoch - 5ms/step\n",
            "Epoch 100/100\n",
            "2463/2463 - 11s - loss: 0.0103 - val_loss: 0.0380 - 11s/epoch - 5ms/step\n"
          ]
        }
      ]
    },
    {
      "cell_type": "code",
      "source": [
        "# CNN Prediction\n",
        "trs_cnn_pred = model_cnn.predict(trs_cnn_X)\n",
        "tes_cnn_pred = model_cnn.predict(tes_cnn_X)\n",
        "# print('Train rmse:', np.sqrt(mean_squared_error(trs_cnn_y, trs_cnn_pred)))\n",
        "# print('Validation rmse:', np.sqrt(mean_squared_error(tes_cnn_y, tes_cnn_pred)))\n"
      ],
      "metadata": {
        "id": "q-IX_jExZUYk"
      },
      "execution_count": 91,
      "outputs": []
    },
    {
      "cell_type": "code",
      "source": [
        "trs_cnn_pred = trs_cnn_pred.reshape(-1,1)\n",
        "trs_cnn_y = trs_cnn_y.reshape(-1,1)\n",
        "tes_cnn_pred = tes_cnn_pred.reshape(-1,1)\n",
        "tes_cnn_y = tes_cnn_y.reshape(-1,1)"
      ],
      "metadata": {
        "id": "ABA8NEG9h3of"
      },
      "execution_count": 92,
      "outputs": []
    },
    {
      "cell_type": "code",
      "source": [
        "# calculate NSE\n",
        "nse_trs_cnn = 1-(np.sum((trs_cnn_pred-trs_cnn_y)**2)/np.sum((trs_cnn_y-np.mean(trs_cnn_y))**2))\n",
        "nse_tes_cnn = 1-(np.sum((tes_cnn_pred-tes_cnn_y)**2)/np.sum((tes_cnn_y-np.mean(tes_cnn_y))**2))\n",
        "print('Train NSE: %.3f' % nse_trs_cnn)\n",
        "print('Test NSE: %.3f' % nse_tes_cnn)\n",
        "\n",
        "# calculate RMSE\n",
        "rmse_trs_cnn = np.sqrt(mean_squared_error(trs_cnn_y, trs_cnn_pred))\n",
        "rmse_tes_cnn = np.sqrt(mean_squared_error(tes_cnn_y, tes_cnn_pred))\n",
        "print('Train RMSE: %.3f' % rmse_trs_cnn)\n",
        "print('Test RMSE: %.3f' % rmse_tes_cnn)"
      ],
      "metadata": {
        "colab": {
          "base_uri": "https://localhost:8080/"
        },
        "id": "y3G4rEjBbpTk",
        "outputId": "59e841ca-0f43-4da9-f7b8-1af96b724635"
      },
      "execution_count": 93,
      "outputs": [
        {
          "output_type": "stream",
          "name": "stdout",
          "text": [
            "Train NSE: 0.817\n",
            "Test NSE: 0.483\n",
            "Train RMSE: 0.103\n",
            "Test RMSE: 0.195\n"
          ]
        }
      ]
    },
    {
      "cell_type": "markdown",
      "source": [
        "# Archive"
      ],
      "metadata": {
        "id": "6w2EwQydjZZm"
      }
    },
    {
      "cell_type": "code",
      "source": [
        "# # NSE Calculation and Plot\n",
        "\n",
        "# o = np.array([1,2,3,4,5,6,7,8,9,10,2,3,4,5,6,7])\n",
        "# m = np.array([1.1,2.2,3.2,4,5,6.1,7.2,8.5,8,10.5,1,2,4,5,6,7])\n",
        "# # nse = 1-(np.sum((p-t)**2)/np.sum((t-np.mean(t))**2))\n",
        "# # print('Test NSE: %.3f' % nse)\n",
        "# # plot\n",
        "\n",
        "\n",
        "# fig= plt.figure(figsize=(14, 4))\n",
        "# plt.title('Insert Title')\n",
        "# plt.plot(o, label='observed', color='#00688b', linewidth=0.5)\n",
        "# plt.plot(m, label='model', color='#ee7600', linewidth=0.5)\n",
        "# plt.plot([], [], ' ', label='NSE = %.3f' % nse)\n",
        "# plt.ylabel('y label')\n",
        "# plt.ylabel('x label')\n",
        "# plt.legend()\n",
        "# plt.show()\n",
        "\n"
      ],
      "metadata": {
        "id": "5HHU6Evxk47G"
      },
      "execution_count": 94,
      "outputs": []
    },
    {
      "cell_type": "code",
      "source": [
        "# # Data Processing for Multivariable CNN - Small Sample Size for Testing\n",
        "# df_cnn = df_cnn.iloc[:2500, :]\n",
        "# df_cnn = df_cnn.set_index('ds')\n",
        "# df_cnn = df_cnn[['temp', 'rad', 'preci', 'y']]\n",
        "# df_cnn = df_cnn.to_numpy()"
      ],
      "metadata": {
        "id": "B-4_FQyuf73l"
      },
      "execution_count": 95,
      "outputs": []
    }
  ]
}